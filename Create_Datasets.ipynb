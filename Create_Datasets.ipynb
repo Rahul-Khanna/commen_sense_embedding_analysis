{
 "cells": [
  {
   "cell_type": "code",
   "execution_count": 37,
   "metadata": {},
   "outputs": [],
   "source": [
    "from generate_data import *"
   ]
  },
  {
   "cell_type": "code",
   "execution_count": 38,
   "metadata": {},
   "outputs": [],
   "source": [
    "negation = \"not\"\n",
    "original_comparison = \"lighter\"\n",
    "antonym_comparison = \"heavier\"\n",
    "original_comparison_phrase = \"should float more than\"\n",
    "paraphrase = \"will stay afloat more than\"\n",
    "inverted_paraphrase = \"will sink more than\"\n",
    "premise_switch = {\"0\" : (\"should\", \"shouldn't\"), \"1\" : (\"will\", \"will not\"), \"2\" : (\"will\", \"will not\")}\n"
   ]
  },
  {
   "cell_type": "code",
   "execution_count": 39,
   "metadata": {},
   "outputs": [],
   "source": [
    "# generate_physical_perturbations(negation,\n",
    "#                                 original_comparison,\n",
    "#                                 antonym_comparison,\n",
    "#                                 original_comparison_phrase,\n",
    "#                                 paraphrase,\n",
    "#                                 inverted_paraphrase,\n",
    "#                                 premise_switch)"
   ]
  },
  {
   "cell_type": "code",
   "execution_count": 40,
   "metadata": {},
   "outputs": [],
   "source": [
    "# pad_string(negation_switch[\"0\"][0])"
   ]
  },
  {
   "cell_type": "code",
   "execution_count": 41,
   "metadata": {},
   "outputs": [],
   "source": [
    "import json\n",
    "with open(\"truism_data/physical_data.json\", \"r\") as f:\n",
    "    physical_data = json.load(f)"
   ]
  },
  {
   "cell_type": "code",
   "execution_count": 42,
   "metadata": {},
   "outputs": [
    {
     "name": "stdout",
     "output_type": "stream",
     "text": [
      "can not fit into more boxes than\n",
      "should not float less than\n",
      "should not be more hard than\n",
      "can not slip through less cracks than\n",
      "should not melt less quickly than\n",
      "should not bounce back more quickly than\n",
      "is not more difficult to pull apart than\n",
      "is not less comfortable to sleep on than\n",
      "will not cast a more lengthy shadow than\n",
      "is not less likely to support weight than\n",
      "has less of an ability to cause damage on impact than\n",
      "is not more dangerous to look directly at than\n",
      "is not more difficult to discern in water than\n",
      "is not more difficult to hide than\n",
      "will not displace less liquid in a tub than\n",
      "is not less appropriate for keeping things out of reach than\n",
      "is not more unwieldy to carry than\n",
      "can not withstand less additional force than\n",
      "will not be more painful to hold onto than\n",
      "does not need less force to seperate from another magnet than\n"
     ]
    }
   ],
   "source": [
    "output = {}\n",
    "for entry in physical_data:\n",
    "    data = physical_data[entry]\n",
    "    output[entry] = generate_physical_perturbations(data[\"initial_comparison\"],\n",
    "                                                    data[\"negation_switch\"],\n",
    "                                                    data[\"antonym_switch\"],\n",
    "                                                    data[\"original_comparison\"],\n",
    "                                                    data[\"paraphrase\"],\n",
    "                                                    data[\"inverted_paraphrase\"],\n",
    "                                                    data[\"premise_switch\"])"
   ]
  },
  {
   "cell_type": "code",
   "execution_count": 43,
   "metadata": {},
   "outputs": [],
   "source": [
    "with open('truism_data/physical_data_sentences.json', 'w') as outfile:\n",
    "    json.dump(output, outfile, indent=1)"
   ]
  },
  {
   "cell_type": "code",
   "execution_count": null,
   "metadata": {},
   "outputs": [],
   "source": []
  },
  {
   "cell_type": "code",
   "execution_count": null,
   "metadata": {},
   "outputs": [],
   "source": []
  },
  {
   "cell_type": "code",
   "execution_count": 44,
   "metadata": {},
   "outputs": [],
   "source": [
    "material_1 = \"glass\"\n",
    "material_2 = \"stone\"\n",
    "negation_switch = {\"0\" : [\"is\", \"is not\"], \n",
    "                   \"1\" : [\"lets\", \"does not let\"], \n",
    "                   \"2\" : [\"blocks\", \"does not block\"]}\n",
    "antonym_switch = [\"transparent\", \"opaque\"]\n",
    "original_comparison = \"is more transparent than\"\n",
    "paraphrase = \"lets in more light than\"\n",
    "inverted_paraphrase = \"blocks more light than\"\n",
    "premise_switch = {\"0\" : [\"more\", \"less\"],\n",
    "                  \"1\" : [\"more\", \"less\"],\n",
    "                  \"2\" : [\"less\", \"more\"]}\n"
   ]
  },
  {
   "cell_type": "code",
   "execution_count": 45,
   "metadata": {},
   "outputs": [
    {
     "data": {
      "text/plain": [
       "{'original': {'original': 'A is made out of glass and B is made out of stone, so A is more transparent than B',\n",
       "  'asymmetric_premise': 'B is made out of glass and A is made out of stone, so A is less transparent than B',\n",
       "  'asymmetric_conclusion': 'A is made out of glass and B is made out of stone, so B is less transparent than A'},\n",
       " 'negation': {'original': 'A is made out of glass and B is made out of stone, so A is not less transparent than B',\n",
       "  'asymmetric_premise': 'B is made out of glass and A is made out of stone, so A is not more transparent than B',\n",
       "  'asymmetric_conclusion': 'A is made out of glass and B is made out of stone, so B is not more transparent than A'},\n",
       " 'antonym': {'original': 'A is made out of glass and B is made out of stone, so A is less opaque than B',\n",
       "  'asymmetric_premise': 'B is made out of glass and A is made out of stone, so A is more opaque than B',\n",
       "  'asymmetric_conclusion': 'A is made out of glass and B is made out of stone, so B is more opaque than A'},\n",
       " 'paraphrase': {'original': 'A is made out of glass and B is made out of stone, so A lets in more light than B',\n",
       "  'asymmetric_premise': 'B is made out of glass and A is made out of stone, so A lets in less light than B',\n",
       "  'asymmetric_conclusion': 'A is made out of glass and B is made out of stone, so B lets in less light than A'},\n",
       " 'paraphrase_inversion': {'original': 'A is made out of glass and B is made out of stone, so A blocks more light than B',\n",
       "  'asymmetric_premise': 'B is made out of glass and A is made out of stone, so A blocks more light than B',\n",
       "  'asymmetric_conclusion': 'A is made out of glass and B is made out of stone, so B blocks more light than A'},\n",
       " 'negation_antonym': {'original': 'A is made out of glass and B is made out of stone, so A is not more opaque than B',\n",
       "  'asymmetric_premise': 'B is made out of glass and A is made out of stone, so A is not less opaque than B',\n",
       "  'asymmetric_conclusion': 'A is made out of glass and B is made out of stone, so B is not less opaque than A'},\n",
       " 'negation_paraphrase': {'original': 'A is made out of glass and B is made out of stone, so A does not let in less light than B',\n",
       "  'asymmetric_premise': 'B is made out of glass and A is made out of stone, so A does not let in more light than B',\n",
       "  'asymmetric_conclusion': 'A is made out of glass and B is made out of stone, so B does not let in more light than A'},\n",
       " 'negation_paraphrase_inversion': {'original': 'A is made out of glass and B is made out of stone, so A does not block more light than B',\n",
       "  'asymmetric_premise': 'B is made out of glass and A is made out of stone, so A does not block more light than B',\n",
       "  'asymmetric_conclusion': 'A is made out of glass and B is made out of stone, so B does not block more light than A'}}"
      ]
     },
     "execution_count": 45,
     "metadata": {},
     "output_type": "execute_result"
    }
   ],
   "source": [
    "generate_material_perturbations(material_1, material_2, negation_switch, antonym_switch,\n",
    "                                original_comparison, paraphrase, inverted_paraphrase, premise_switch)\n",
    "      "
   ]
  },
  {
   "cell_type": "code",
   "execution_count": 46,
   "metadata": {},
   "outputs": [],
   "source": [
    "import json\n",
    "with open(\"truism_data/material_data.json\", \"r\") as f:\n",
    "    material_data = json.load(f)"
   ]
  },
  {
   "cell_type": "code",
   "execution_count": 47,
   "metadata": {},
   "outputs": [],
   "source": [
    "output_2 = {}\n",
    "for entry in material_data:\n",
    "    data = material_data[entry]\n",
    "    output_2[entry] = generate_material_perturbations(data[\"material_1\"], \n",
    "                                                      data[\"material_2\"],\n",
    "                                                      data[\"negation_switch\"],\n",
    "                                                      data[\"antonym_switch\"],\n",
    "                                                      data[\"original_comparison\"],\n",
    "                                                      data[\"paraphrase\"],\n",
    "                                                      data[\"inverted_paraphrase\"],\n",
    "                                                      data[\"premise_switch\"])"
   ]
  },
  {
   "cell_type": "code",
   "execution_count": 48,
   "metadata": {},
   "outputs": [],
   "source": [
    "# output_2"
   ]
  },
  {
   "cell_type": "code",
   "execution_count": 49,
   "metadata": {},
   "outputs": [],
   "source": [
    "with open('truism_data/material_data_sentences.json', 'w') as outfile:\n",
    "    json.dump(output_2, outfile, indent=1)"
   ]
  },
  {
   "cell_type": "code",
   "execution_count": null,
   "metadata": {},
   "outputs": [],
   "source": []
  },
  {
   "cell_type": "code",
   "execution_count": 50,
   "metadata": {},
   "outputs": [],
   "source": [
    "situation = \"A makes the varisty team while B does not\"\n",
    "negation_switch = {\"0\" : [\"is\", \"isn't\"], \n",
    "                   \"1\" : [\"is\", \"isn't\"], \n",
    "                   \"2\" : [\"makes\", \"does not make\"]}\n",
    "antonym_switch = [\"skilled\", \"incompetent\"]\n",
    "original_comparison = \"is more skilled than\"\n",
    "paraphrase = \"is better than\"\n",
    "inverted_paraphrase = \"makes less mistakes than\"\n",
    "premise_switch = {\"0\" : [\"more\", \"less\"], \n",
    "                   \"1\" : [\"better\", \"worse\"], \n",
    "                   \"2\" : [\"less\", \"more\"]}\n"
   ]
  },
  {
   "cell_type": "code",
   "execution_count": 51,
   "metadata": {},
   "outputs": [
    {
     "data": {
      "text/plain": [
       "{'original': {'original': 'A makes the varisty team while B does not, so A is more skilled than B',\n",
       "  'asymmetric_premise': 'B makes the varisty team while A does not, so A is less skilled than B',\n",
       "  'asymmetric_conclusion': 'A makes the varisty team while B does not, so B is less skilled than A'},\n",
       " 'negation': {'original': \"A makes the varisty team while B does not, so A isn't less skilled than B\",\n",
       "  'asymmetric_premise': \"B makes the varisty team while A does not, so A isn't more skilled than B\",\n",
       "  'asymmetric_conclusion': \"A makes the varisty team while B does not, so B isn't more skilled than A\"},\n",
       " 'antonym': {'original': 'A makes the varisty team while B does not, so A is less incompetent than B',\n",
       "  'asymmetric_premise': 'B makes the varisty team while A does not, so A is more incompetent than B',\n",
       "  'asymmetric_conclusion': 'A makes the varisty team while B does not, so B is more incompetent than A'},\n",
       " 'paraphrase': {'original': 'A makes the varisty team while B does not, so A is better than B',\n",
       "  'asymmetric_premise': 'B makes the varisty team while A does not, so A is worse than B',\n",
       "  'asymmetric_conclusion': 'A makes the varisty team while B does not, so B is worse than A'},\n",
       " 'paraphrase_inversion': {'original': 'A makes the varisty team while B does not, so A makes less mistakes than B',\n",
       "  'asymmetric_premise': 'B makes the varisty team while A does not, so A makes more mistakes than B',\n",
       "  'asymmetric_conclusion': 'A makes the varisty team while B does not, so B makes more mistakes than A'},\n",
       " 'negation_antonym': {'original': \"A makes the varisty team while B does not, so A isn't more incompetent than B\",\n",
       "  'asymmetric_premise': \"B makes the varisty team while A does not, so A isn't less incompetent than B\",\n",
       "  'asymmetric_conclusion': \"A makes the varisty team while B does not, so B isn't less incompetent than A\"},\n",
       " 'negation_paraphrase': {'original': \"A makes the varisty team while B does not, so A isn't worse than B\",\n",
       "  'asymmetric_premise': \"B makes the varisty team while A does not, so A isn't better than B\",\n",
       "  'asymmetric_conclusion': \"A makes the varisty team while B does not, so B isn't better than A\"},\n",
       " 'negation_paraphrase_inversion': {'original': 'A makes the varisty team while B does not, so A does not make more mistakes than B',\n",
       "  'asymmetric_premise': 'B makes the varisty team while A does not, so A does not make less mistakes than B',\n",
       "  'asymmetric_conclusion': 'A makes the varisty team while B does not, so B does not make less mistakes than A'}}"
      ]
     },
     "execution_count": 51,
     "metadata": {},
     "output_type": "execute_result"
    }
   ],
   "source": [
    "generate_social_perturbations(situation, negation_switch, antonym_switch, \n",
    "                              original_comparison, paraphrase, inverted_paraphrase,\n",
    "                              premise_switch)"
   ]
  },
  {
   "cell_type": "code",
   "execution_count": 61,
   "metadata": {},
   "outputs": [],
   "source": [
    "import json\n",
    "with open(\"truism_data/social_data.json\", \"r\") as f:\n",
    "    social_data = json.load(f)"
   ]
  },
  {
   "cell_type": "code",
   "execution_count": 62,
   "metadata": {},
   "outputs": [],
   "source": [
    "output_3 = {}\n",
    "for entry in social_data:\n",
    "    data = social_data[entry]\n",
    "    output_3[entry] = generate_social_perturbations(data[\"situation\"],\n",
    "                                                      data[\"negation_switch\"],\n",
    "                                                      data[\"antonym_switch\"],\n",
    "                                                      data[\"original_comparison\"],\n",
    "                                                      data[\"paraphrase\"],\n",
    "                                                      data[\"inverted_paraphrase\"],\n",
    "                                                      data[\"premise_switch\"])"
   ]
  },
  {
   "cell_type": "code",
   "execution_count": 63,
   "metadata": {},
   "outputs": [],
   "source": [
    "with open('truism_data/social_data_sentences.json', 'w') as outfile:\n",
    "    json.dump(output_3, outfile, indent=1)"
   ]
  },
  {
   "cell_type": "code",
   "execution_count": null,
   "metadata": {},
   "outputs": [],
   "source": []
  },
  {
   "cell_type": "code",
   "execution_count": null,
   "metadata": {},
   "outputs": [],
   "source": []
  }
 ],
 "metadata": {
  "kernelspec": {
   "display_name": "Python 3",
   "language": "python",
   "name": "python3"
  },
  "language_info": {
   "codemirror_mode": {
    "name": "ipython",
    "version": 3
   },
   "file_extension": ".py",
   "mimetype": "text/x-python",
   "name": "python",
   "nbconvert_exporter": "python",
   "pygments_lexer": "ipython3",
   "version": "3.6.5"
  }
 },
 "nbformat": 4,
 "nbformat_minor": 2
}
