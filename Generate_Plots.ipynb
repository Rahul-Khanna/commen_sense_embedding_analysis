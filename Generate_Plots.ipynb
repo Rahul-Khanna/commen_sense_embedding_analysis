{
 "cells": [
  {
   "cell_type": "code",
   "execution_count": 573,
   "metadata": {},
   "outputs": [],
   "source": [
    "import pandas as pd\n",
    "import json\n",
    "import numpy as np\n",
    "import matplotlib.pyplot as plt\n",
    "from exploration_utils import *"
   ]
  },
  {
   "cell_type": "code",
   "execution_count": 574,
   "metadata": {},
   "outputs": [],
   "source": [
    "material_data = pd.read_csv(\"result_data/material_perf_10.csv\")\n",
    "\n",
    "social_data = pd.read_csv(\"result_data/social_perf_10.csv\")\n",
    "\n",
    "physical_data = pd.read_csv(\"result_data/physical_perf_10.csv\")\n",
    "\n",
    "with open(\"truism_data/physical_data.json\", \"r\") as f:\n",
    "    physical_params = json.load(f)\n",
    "\n",
    "with open(\"truism_data/material_data.json\", \"r\") as f:\n",
    "    material_params = json.load(f)\n",
    "\n",
    "with open(\"truism_data/social_data.json\", \"r\") as f:\n",
    "    social_params = json.load(f)"
   ]
  },
  {
   "cell_type": "code",
   "execution_count": 575,
   "metadata": {},
   "outputs": [],
   "source": [
    "templates = get_templates([physical_params, material_params, social_params])"
   ]
  },
  {
   "cell_type": "code",
   "execution_count": 576,
   "metadata": {},
   "outputs": [],
   "source": [
    "template_perturb_dict = get_perturbations(material_data, templates)\n",
    "for key in template_perturb_dict:\n",
    "    template_perturb_dict[key][\"count\"] = 0"
   ]
  },
  {
   "cell_type": "code",
   "execution_count": 577,
   "metadata": {},
   "outputs": [],
   "source": [
    "perturbation_order = get_perturbation_order(material_data, 24)"
   ]
  },
  {
   "cell_type": "code",
   "execution_count": 578,
   "metadata": {},
   "outputs": [],
   "source": [
    "template_perturb_dict = fill_pertubation_data(material_data, material_params, template_perturb_dict)\n",
    "template_perturb_dict = fill_pertubation_data(physical_data, physical_params, template_perturb_dict)\n",
    "template_perturb_dict = fill_pertubation_data(social_data, social_params, template_perturb_dict)"
   ]
  },
  {
   "cell_type": "code",
   "execution_count": 579,
   "metadata": {},
   "outputs": [],
   "source": [
    "template_accuracy = aggregate_templates(template_perturb_dict, \"accuracy\")\n",
    "template_ratio = aggregate_templates(template_perturb_dict, \"ratio_score\")"
   ]
  },
  {
   "cell_type": "code",
   "execution_count": 580,
   "metadata": {},
   "outputs": [
    {
     "data": {
      "text/plain": [
       "{'1': {'count': 243.0, 'pct': 0.50625, 'total': 480.0},\n",
       " '2': {'count': 247.0, 'pct': 0.5145833333333333, 'total': 480.0},\n",
       " '4': {'count': 51.0, 'pct': 0.53125, 'total': 96.0},\n",
       " '5': {'count': 76.0, 'pct': 0.5277777777777778, 'total': 144.0},\n",
       " '3': {'count': 116.0, 'pct': 0.48333333333333334, 'total': 240.0}}"
      ]
     },
     "execution_count": 580,
     "metadata": {},
     "output_type": "execute_result"
    }
   ],
   "source": [
    "template_accuracy"
   ]
  },
  {
   "cell_type": "code",
   "execution_count": 581,
   "metadata": {},
   "outputs": [
    {
     "data": {
      "text/plain": [
       "{'1': {'count': 1.7776429739866355,\n",
       "  'pct': 0.003703422862472157,\n",
       "  'total': 480.0},\n",
       " '2': {'count': 18.356418546326797,\n",
       "  'pct': 0.03824253863818083,\n",
       "  'total': 480.0},\n",
       " '4': {'count': 8.081222078891457, 'pct': 0.08417939665511935, 'total': 96.0},\n",
       " '5': {'count': 3.945707512275537,\n",
       "  'pct': 0.027400746613024565,\n",
       "  'total': 144.0},\n",
       " '3': {'count': -6.63885182723725,\n",
       "  'pct': -0.027661882613488543,\n",
       "  'total': 240.0}}"
      ]
     },
     "execution_count": 581,
     "metadata": {},
     "output_type": "execute_result"
    }
   ],
   "source": [
    "template_ratio"
   ]
  },
  {
   "cell_type": "code",
   "execution_count": 597,
   "metadata": {},
   "outputs": [],
   "source": [
    "def display_two_axis_bar_plot(x_labels, x_label, left_units, right_units, \n",
    "                              left_bar_data, right_bar_data, title, save=False):\n",
    "    \n",
    "    # https://matplotlib.org/gallery/api/two_scales.html\n",
    "    \n",
    "    # https://matplotlib.org/gallery/lines_bars_and_markers/barchart.html#sphx-glr-gallery-lines-bars-and-markers-barchart-py\n",
    "    fig, ax1 = plt.subplots()\n",
    "    x = np.arange(len(x_labels))\n",
    "    width = 0.35\n",
    "    \n",
    "    color = 'tab:red'\n",
    "    ax1.set_ylabel(left_units, color=color)\n",
    "    ax1.set_ylim(bottom=0)\n",
    "    rects1 = ax1.bar(x - width/2, left_bar_data, width, label=left_units, color=color)\n",
    "    ax1.tick_params(axis='y', labelcolor=color)\n",
    "    ax1.set_xticks(x)\n",
    "    ax1.set_xticklabels(x_labels)\n",
    "    ax1.set_xlabel(x_label)\n",
    "    \n",
    "    ax2 = ax1.twinx()  # instantiate a second axes that shares the same x-axis\n",
    "    color = 'tab:blue'\n",
    "    ax2.set_ylabel(right_units, color=color)\n",
    "    ax2.set_ylim(bottom=-1, top=1)\n",
    "    rects2 = ax2.bar(x + width/2, right_bar_data, width, label=right_units, color=color)\n",
    "    ax2.tick_params(axis='y', labelcolor=color)\n",
    "    \n",
    "    ax1.legend(loc=2)\n",
    "    ax2.legend(loc=0)\n",
    "    \n",
    "    autolabel(rects1, ax1, False, \"tab:red\")\n",
    "    autolabel(rects2, ax2, True, \"tab:blue\")\n",
    "    \n",
    "    ax1.set_title(title)\n",
    "    \n",
    "    fig.tight_layout()  # otherwise the right y-label is slightly clipped\n",
    "    if save:\n",
    "        plt.savefig(\"{}.pdf\".format(title), format='pdf', dpi=1200)\n",
    "#         fig.savefig('myimage.svg', )\n",
    "    \n",
    "    plt.show()"
   ]
  },
  {
   "cell_type": "code",
   "execution_count": 598,
   "metadata": {},
   "outputs": [
    {
     "data": {
      "image/png": "[encoded data removed]",
      "text/plain": [
       "<Figure size 432x288 with 2 Axes>"
      ]
     },
     "metadata": {
      "needs_background": "light"
     },
     "output_type": "display_data"
    }
   ],
   "source": [
    "x_labels = [\"1 (480)\", \"2 (480)\", \"3 (96)\", \"4 (144)\", \"5 (240)\"]\n",
    "x_label = \"Template (num_trials)\"\n",
    "left_units = \"Avg Accuracy %\"\n",
    "right_units = \"Avg Confidence Ratio\"\n",
    "left_bar_data = [round(template_accuracy[str(i)][\"pct\"], 3) for i in range(1, 6)]\n",
    "right_bar_data = [round(template_ratio[str(i)][\"pct\"], 3) for i in range(1, 6)]\n",
    "title = \"Performance of RoBERTa\"\n",
    "display_two_axis_bar_plot(x_labels, x_label, left_units, right_units, \n",
    "                              left_bar_data, right_bar_data, title, True)"
   ]
  },
  {
   "cell_type": "code",
   "execution_count": null,
   "metadata": {},
   "outputs": [],
   "source": []
  },
  {
   "cell_type": "code",
   "execution_count": null,
   "metadata": {},
   "outputs": [],
   "source": []
  },
  {
   "cell_type": "code",
   "execution_count": null,
   "metadata": {},
   "outputs": [],
   "source": []
  }
 ],
 "metadata": {
  "kernelspec": {
   "display_name": "Python 3",
   "language": "python",
   "name": "python3"
  },
  "language_info": {
   "codemirror_mode": {
    "name": "ipython",
    "version": 3
   },
   "file_extension": ".py",
   "mimetype": "text/x-python",
   "name": "python",
   "nbconvert_exporter": "python",
   "pygments_lexer": "ipython3",
   "version": "3.6.5"
  }
 },
 "nbformat": 4,
 "nbformat_minor": 2
}
