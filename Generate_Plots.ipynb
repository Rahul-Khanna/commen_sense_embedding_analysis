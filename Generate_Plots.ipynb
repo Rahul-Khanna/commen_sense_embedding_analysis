{
 "cells": [
  {
   "cell_type": "code",
   "execution_count": 1,
   "metadata": {},
   "outputs": [],
   "source": [
    "%load_ext autoreload\n",
    "%autoreload 2"
   ]
  },
  {
   "cell_type": "code",
   "execution_count": 48,
   "metadata": {},
   "outputs": [],
   "source": [
    "import pandas as pd\n",
    "import json\n",
    "import numpy as np\n",
    "import matplotlib.pyplot as plt\n",
    "import matplotlib\n",
    "from exploration_utils import *"
   ]
  },
  {
   "cell_type": "code",
   "execution_count": 3,
   "metadata": {},
   "outputs": [],
   "source": [
    "material_data = pd.read_csv(\"result_data/material_perf_10.csv\")\n",
    "\n",
    "social_data = pd.read_csv(\"result_data/social_perf_10.csv\")\n",
    "\n",
    "physical_data = pd.read_csv(\"result_data/physical_perf_10.csv\")\n",
    "\n",
    "with open(\"truism_data/physical_data.json\", \"r\") as f:\n",
    "    physical_params = json.load(f)\n",
    "\n",
    "with open(\"truism_data/material_data.json\", \"r\") as f:\n",
    "    material_params = json.load(f)\n",
    "\n",
    "with open(\"truism_data/social_data.json\", \"r\") as f:\n",
    "    social_params = json.load(f)"
   ]
  },
  {
   "cell_type": "code",
   "execution_count": 4,
   "metadata": {},
   "outputs": [],
   "source": [
    "templates = get_templates([physical_params, material_params, social_params])"
   ]
  },
  {
   "cell_type": "code",
   "execution_count": 5,
   "metadata": {},
   "outputs": [
    {
     "data": {
      "text/plain": [
       "{'4': {}, '1': {}, '3': {}, '2': {}}"
      ]
     },
     "execution_count": 5,
     "metadata": {},
     "output_type": "execute_result"
    }
   ],
   "source": [
    "templates"
   ]
  },
  {
   "cell_type": "code",
   "execution_count": 6,
   "metadata": {},
   "outputs": [],
   "source": [
    "template_perturb_dict = get_perturbations(material_data, templates)\n",
    "for key in template_perturb_dict:\n",
    "    template_perturb_dict[key][\"count\"] = 0"
   ]
  },
  {
   "cell_type": "code",
   "execution_count": 7,
   "metadata": {},
   "outputs": [],
   "source": [
    "perturbation_order = get_perturbation_order(material_data, 24)"
   ]
  },
  {
   "cell_type": "code",
   "execution_count": 8,
   "metadata": {},
   "outputs": [],
   "source": [
    "template_perturb_dict = fill_pertubation_data(material_data, material_params, template_perturb_dict)\n",
    "template_perturb_dict = fill_pertubation_data(physical_data, physical_params, template_perturb_dict)\n",
    "template_perturb_dict = fill_pertubation_data(social_data, social_params, template_perturb_dict)"
   ]
  },
  {
   "cell_type": "code",
   "execution_count": 9,
   "metadata": {},
   "outputs": [],
   "source": [
    "template_accuracy = aggregate_templates(template_perturb_dict, \"accuracy\")\n",
    "template_ratio = aggregate_templates(template_perturb_dict, \"ratio_score\")"
   ]
  },
  {
   "cell_type": "code",
   "execution_count": 10,
   "metadata": {},
   "outputs": [
    {
     "data": {
      "text/plain": [
       "{'4': {'count': 321.0, 'pct': 0.5144230769230769, 'total': 624.0},\n",
       " '1': {'count': 247.0, 'pct': 0.5145833333333333, 'total': 480.0},\n",
       " '3': {'count': 51.0, 'pct': 0.53125, 'total': 96.0},\n",
       " '2': {'count': 116.0, 'pct': 0.48333333333333334, 'total': 240.0}}"
      ]
     },
     "execution_count": 10,
     "metadata": {},
     "output_type": "execute_result"
    }
   ],
   "source": [
    "template_accuracy"
   ]
  },
  {
   "cell_type": "code",
   "execution_count": 11,
   "metadata": {},
   "outputs": [
    {
     "data": {
      "text/plain": [
       "{'4': {'count': 4.748750546899982,\n",
       "  'pct': 0.007610177158493561,\n",
       "  'total': 624.0},\n",
       " '1': {'count': 18.196381564758152,\n",
       "  'pct': 0.037909128259912814,\n",
       "  'total': 480.0},\n",
       " '3': {'count': 8.081222078891457, 'pct': 0.08417939665511935, 'total': 96.0},\n",
       " '2': {'count': -6.63885182723725,\n",
       "  'pct': -0.027661882613488543,\n",
       "  'total': 240.0}}"
      ]
     },
     "execution_count": 11,
     "metadata": {},
     "output_type": "execute_result"
    }
   ],
   "source": [
    "template_ratio"
   ]
  },
  {
   "cell_type": "code",
   "execution_count": 12,
   "metadata": {},
   "outputs": [],
   "source": [
    "def display_two_axis_bar_plot(x_labels, x_label, left_units, right_units, \n",
    "                              left_bar_data, right_bar_data, title, save=False):\n",
    "    \n",
    "    # https://matplotlib.org/gallery/api/two_scales.html\n",
    "    \n",
    "    # https://matplotlib.org/gallery/lines_bars_and_markers/barchart.html#sphx-glr-gallery-lines-bars-and-markers-barchart-py\n",
    "    fig, ax1 = plt.subplots()\n",
    "    x = np.arange(len(x_labels))\n",
    "    width = 0.35\n",
    "    \n",
    "    color = 'tab:red'\n",
    "    ax1.set_ylabel(left_units, color=color)\n",
    "    ax1.set_ylim(bottom=0)\n",
    "    rects1 = ax1.bar(x - width/2, left_bar_data, width, label=left_units, color=color)\n",
    "    ax1.tick_params(axis='y', labelcolor=color)\n",
    "    ax1.set_xticks(x)\n",
    "    ax1.set_xticklabels(x_labels)\n",
    "    ax1.set_xlabel(x_label)\n",
    "    \n",
    "    ax2 = ax1.twinx()  # instantiate a second axes that shares the same x-axis\n",
    "    color = 'tab:blue'\n",
    "    ax2.set_ylabel(right_units, color=color)\n",
    "    ax2.set_ylim(bottom=-1, top=1)\n",
    "    rects2 = ax2.bar(x + width/2, right_bar_data, width, label=right_units, color=color)\n",
    "    ax2.tick_params(axis='y', labelcolor=color)\n",
    "    \n",
    "    ax1.legend(loc=2)\n",
    "    ax2.legend(loc=0)\n",
    "    \n",
    "    autolabel(rects1, ax1, False, \"tab:red\")\n",
    "    autolabel(rects2, ax2, True, \"tab:blue\")\n",
    "    \n",
    "    ax1.set_title(title)\n",
    "    \n",
    "    fig.tight_layout()  # otherwise the right y-label is slightly clipped\n",
    "    if save:\n",
    "        plt.savefig(\"visual_data/{}.pdf\".format(title), format='pdf', dpi=1200)\n",
    "#         fig.savefig('myimage.svg', )\n",
    "    \n",
    "    plt.show()"
   ]
  },
  {
   "cell_type": "code",
   "execution_count": 61,
   "metadata": {},
   "outputs": [],
   "source": [
    "def display_bar_plot(x_labels, x_label, y_label, data, title, save=False):\n",
    "    \n",
    "    # https://matplotlib.org/gallery/api/two_scales.html\n",
    "    \n",
    "    # https://matplotlib.org/gallery/lines_bars_and_markers/barchart.html#sphx-glr-gallery-lines-bars-and-markers-barchart-py\n",
    "    fig, ax1 = plt.subplots()\n",
    "    x = np.arange(len(x_labels))\n",
    "    width = 0.35\n",
    "    \n",
    "    color = 'tab:blue'\n",
    "    ax1.set_ylabel(y_label, color=color)\n",
    "    ax1.set_ylim(bottom=-1, top=1)\n",
    "#     ax1.set_ylim(bottom=0, top=1)\n",
    "    rects1 = ax1.bar(x, data, width, label=y_label, color=color)\n",
    "    ax1.tick_params(axis='y', labelcolor=color)\n",
    "    ax1.set_xticks(x)\n",
    "    ax1.set_xticklabels(x_labels, rotation=45)\n",
    "    ax1.set_xlabel(x_label)\n",
    "    \n",
    "#     ax2 = ax1.twinx()  # instantiate a second axes that shares the same x-axis\n",
    "#     color = 'tab:blue'\n",
    "#     ax2.set_ylabel(right_units, color=color)\n",
    "#     ax2.set_ylim(bottom=-1, top=1)\n",
    "#     rects2 = ax2.bar(x + width/2, right_bar_data, width, label=right_units, color=color)\n",
    "#     ax2.tick_params(axis='y', labelcolor=color)\n",
    "    \n",
    "    ax1.legend(loc=0)\n",
    "\n",
    "#     ax2.legend(loc=0)\n",
    "    \n",
    "    autolabel(rects1, ax1, \"tab:blue\")\n",
    "#     ax1.axhline(color='blue', linestyle=\"--\")\n",
    "#     autolabel(rects2, ax2, True, \"tab:blue\")\n",
    "    \n",
    "    ax1.set_title(title)\n",
    "    \n",
    "    fig.tight_layout()  # otherwise the right y-label is slightly clipped\n",
    "    if save:\n",
    "        plt.savefig(\"visual_data/{}.pdf\".format(title), format='pdf', dpi=1200)\n",
    "#         fig.savefig('myimage.svg', )\n",
    "    \n",
    "    plt.show()"
   ]
  },
  {
   "cell_type": "code",
   "execution_count": 67,
   "metadata": {},
   "outputs": [
    {
     "data": {
      "image/png": "[encoded data removed]",
      "text/plain": [
       "<Figure size 432x288 with 2 Axes>"
      ]
     },
     "metadata": {
      "needs_background": "light"
     },
     "output_type": "display_data"
    }
   ],
   "source": [
    "x_labels = [\"1 (480)\", \"2 (96)\", \"3 (144)\", \"4 (624)\"]\n",
    "x_label = \"Template (num_trials)\"\n",
    "left_units = \"Avg Accuracy %\"\n",
    "right_units = \"Avg Confidence Ratio\"\n",
    "left_bar_data = [round(template_accuracy[str(i)][\"pct\"], 3) for i in range(1, 5)]\n",
    "right_bar_data = [round(template_ratio[str(i)][\"pct\"], 3) for i in range(1, 5)]\n",
    "title = \"Performance of RoBERTa\"\n",
    "display_two_axis_bar_plot(x_labels, x_label, left_units, right_units, \n",
    "                              left_bar_data, right_bar_data, title, True)"
   ]
  },
  {
   "cell_type": "code",
   "execution_count": 14,
   "metadata": {},
   "outputs": [],
   "source": [
    "perturbation_accuracy = aggregate_pertubations(template_perturb_dict, \"accuracy\")\n",
    "perturbation_ratio = aggregate_pertubations(template_perturb_dict, \"ratio_score\")"
   ]
  },
  {
   "cell_type": "code",
   "execution_count": 15,
   "metadata": {},
   "outputs": [],
   "source": [
    "linguistic_operations = [\"original\", \"negation\", \"antonym\", \"paraphrase\", \"paraphrase_inversion\",\n",
    "                         \"negation_antonym\", \"negation_paraphrase\", \"negation_paraphrase_inversion\"]"
   ]
  },
  {
   "cell_type": "code",
   "execution_count": 16,
   "metadata": {},
   "outputs": [],
   "source": [
    "grouped_perturbation_accuracy = {}\n",
    "for operator in linguistic_operations:\n",
    "    count = 0\n",
    "    total = 0\n",
    "    for key in perturbation_accuracy:\n",
    "        if key.split(\"-\")[0] == operator:\n",
    "            count += perturbation_accuracy[key][\"count\"]\n",
    "            total += perturbation_accuracy[key][\"total\"]\n",
    "    grouped_perturbation_accuracy[operator] = count / total"
   ]
  },
  {
   "cell_type": "code",
   "execution_count": 17,
   "metadata": {},
   "outputs": [
    {
     "data": {
      "text/plain": [
       "{'original': 0.45,\n",
       " 'negation': 0.6444444444444445,\n",
       " 'antonym': 0.6388888888888888,\n",
       " 'paraphrase': 0.3888888888888889,\n",
       " 'paraphrase_inversion': 0.5888888888888889,\n",
       " 'negation_antonym': 0.38333333333333336,\n",
       " 'negation_paraphrase': 0.6111111111111112,\n",
       " 'negation_paraphrase_inversion': 0.37777777777777777}"
      ]
     },
     "execution_count": 17,
     "metadata": {},
     "output_type": "execute_result"
    }
   ],
   "source": [
    "grouped_perturbation_accuracy"
   ]
  },
  {
   "cell_type": "code",
   "execution_count": 18,
   "metadata": {},
   "outputs": [],
   "source": [
    "grouped_perturbation_ratio = {}\n",
    "for operator in linguistic_operations:\n",
    "    count = 0\n",
    "    total = 0\n",
    "    for key in perturbation_ratio:\n",
    "        if key.split(\"-\")[0] == operator:\n",
    "            count += perturbation_ratio[key][\"count\"]\n",
    "            total += perturbation_ratio[key][\"total\"]\n",
    "    grouped_perturbation_ratio[operator] = count / total"
   ]
  },
  {
   "cell_type": "code",
   "execution_count": 19,
   "metadata": {},
   "outputs": [
    {
     "data": {
      "text/plain": [
       "{'original': -0.09904342061030105,\n",
       " 'negation': 0.21572250933356807,\n",
       " 'antonym': 0.18360538341956914,\n",
       " 'paraphrase': -0.0993416963610745,\n",
       " 'paraphrase_inversion': 0.13519949811222204,\n",
       " 'negation_antonym': -0.19824957968413712,\n",
       " 'negation_paraphrase': 0.19896281106745733,\n",
       " 'negation_paraphrase_inversion': -0.20136938103667995}"
      ]
     },
     "execution_count": 19,
     "metadata": {},
     "output_type": "execute_result"
    }
   ],
   "source": [
    "grouped_perturbation_ratio"
   ]
  },
  {
   "cell_type": "code",
   "execution_count": 31,
   "metadata": {},
   "outputs": [
    {
     "data": {
      "image/png": "[encoded data removed]",
      "text/plain": [
       "<Figure size 432x288 with 1 Axes>"
      ]
     },
     "metadata": {
      "needs_background": "light"
     },
     "output_type": "display_data"
    }
   ],
   "source": [
    "x_labels = [\"orig\", \"neg\", \"ant\", \"para\", \"para_inv\", \"neg_ant\", \"neg_para\", \"neg_para_inv\"]\n",
    "x_label = \"Linguistic Operation (180 trials each)\"\n",
    "left_units = \"Avg Accuracy %\"\n",
    "left_bar_data = [round(grouped_perturbation_accuracy[key], 3) for key in linguistic_operations]\n",
    "title = \"Accuracy Robustness Test of RoBERTa\"\n",
    "display_bar_plot(x_labels, x_label, left_units, left_bar_data, title, True)"
   ]
  },
  {
   "cell_type": "code",
   "execution_count": 63,
   "metadata": {},
   "outputs": [
    {
     "name": "stdout",
     "output_type": "stream",
     "text": [
      "-0.099\n",
      "0.216\n",
      "0.184\n",
      "-0.099\n",
      "0.135\n",
      "-0.198\n",
      "0.199\n",
      "-0.201\n"
     ]
    },
    {
     "data": {
      "image/png": "[encoded data removed]",
      "text/plain": [
       "<Figure size 432x288 with 1 Axes>"
      ]
     },
     "metadata": {
      "needs_background": "light"
     },
     "output_type": "display_data"
    }
   ],
   "source": [
    "x_labels = [\"orig\", \"neg\", \"ant\", \"para\", \"para_inv\", \"neg_ant\", \"neg_para\", \"neg_para_inv\"]\n",
    "x_label = \"Linguistic Operation (180 trials each)\"\n",
    "# left_units = \"Avg Accuracy %\"\n",
    "right_units = \"Avg Confidence Ratio\"\n",
    "right_bar_data = [round(grouped_perturbation_ratio[key], 3) for key in linguistic_operations]\n",
    "title = \"Confidence Ratio Robustness Test of RoBERTa\"\n",
    "display_bar_plot(x_labels, x_label, right_units, right_bar_data, title, True)"
   ]
  },
  {
   "cell_type": "code",
   "execution_count": null,
   "metadata": {},
   "outputs": [],
   "source": []
  }
 ],
 "metadata": {
  "kernelspec": {
   "display_name": "Python 3",
   "language": "python",
   "name": "python3"
  },
  "language_info": {
   "codemirror_mode": {
    "name": "ipython",
    "version": 3
   },
   "file_extension": ".py",
   "mimetype": "text/x-python",
   "name": "python",
   "nbconvert_exporter": "python",
   "pygments_lexer": "ipython3",
   "version": "3.6.5"
  }
 },
 "nbformat": 4,
 "nbformat_minor": 2
}
