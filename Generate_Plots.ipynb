{
 "cells": [
  {
   "cell_type": "code",
   "execution_count": 247,
   "metadata": {},
   "outputs": [
    {
     "name": "stdout",
     "output_type": "stream",
     "text": [
      "The autoreload extension is already loaded. To reload it, use:\n",
      "  %reload_ext autoreload\n"
     ]
    }
   ],
   "source": [
    "%load_ext autoreload\n",
    "%autoreload 2"
   ]
  },
  {
   "cell_type": "code",
   "execution_count": 248,
   "metadata": {},
   "outputs": [],
   "source": [
    "import pandas as pd\n",
    "import json\n",
    "import numpy as np\n",
    "import matplotlib.pyplot as plt\n",
    "import matplotlib\n",
    "from exploration_utils import *"
   ]
  },
  {
   "cell_type": "code",
   "execution_count": 249,
   "metadata": {},
   "outputs": [],
   "source": [
    "material_data = pd.read_csv(\"result_data/material_perf_10.csv\")\n",
    "\n",
    "social_data = pd.read_csv(\"result_data/social_perf_10.csv\")\n",
    "\n",
    "physical_data = pd.read_csv(\"result_data/physical_perf_10.csv\")\n",
    "\n",
    "with open(\"truism_data/physical_data.json\", \"r\") as f:\n",
    "    physical_params = json.load(f)\n",
    "\n",
    "with open(\"truism_data/material_data.json\", \"r\") as f:\n",
    "    material_params = json.load(f)\n",
    "\n",
    "with open(\"truism_data/social_data.json\", \"r\") as f:\n",
    "    social_params = json.load(f)"
   ]
  },
  {
   "cell_type": "code",
   "execution_count": 364,
   "metadata": {},
   "outputs": [
    {
     "data": {
      "text/html": [
       "<div>\n",
       "<style scoped>\n",
       "    .dataframe tbody tr th:only-of-type {\n",
       "        vertical-align: middle;\n",
       "    }\n",
       "\n",
       "    .dataframe tbody tr th {\n",
       "        vertical-align: top;\n",
       "    }\n",
       "\n",
       "    .dataframe thead th {\n",
       "        text-align: right;\n",
       "    }\n",
       "</style>\n",
       "<table border=\"1\" class=\"dataframe\">\n",
       "  <thead>\n",
       "    <tr style=\"text-align: right;\">\n",
       "      <th></th>\n",
       "      <th>truism_number</th>\n",
       "      <th>perturbation</th>\n",
       "      <th>premise</th>\n",
       "      <th>avg_binary_score</th>\n",
       "      <th>avg_ratio_score</th>\n",
       "    </tr>\n",
       "  </thead>\n",
       "  <tbody>\n",
       "    <tr>\n",
       "      <th>0</th>\n",
       "      <td>0</td>\n",
       "      <td>original</td>\n",
       "      <td>original</td>\n",
       "      <td>1.0</td>\n",
       "      <td>0.882697</td>\n",
       "    </tr>\n",
       "    <tr>\n",
       "      <th>1</th>\n",
       "      <td>0</td>\n",
       "      <td>original</td>\n",
       "      <td>asymmetric_premise</td>\n",
       "      <td>0.0</td>\n",
       "      <td>-0.695894</td>\n",
       "    </tr>\n",
       "    <tr>\n",
       "      <th>2</th>\n",
       "      <td>0</td>\n",
       "      <td>original</td>\n",
       "      <td>asymmetric_conclusion</td>\n",
       "      <td>0.0</td>\n",
       "      <td>-0.745709</td>\n",
       "    </tr>\n",
       "    <tr>\n",
       "      <th>3</th>\n",
       "      <td>0</td>\n",
       "      <td>negation</td>\n",
       "      <td>original</td>\n",
       "      <td>0.0</td>\n",
       "      <td>-0.931892</td>\n",
       "    </tr>\n",
       "    <tr>\n",
       "      <th>4</th>\n",
       "      <td>0</td>\n",
       "      <td>negation</td>\n",
       "      <td>asymmetric_premise</td>\n",
       "      <td>1.0</td>\n",
       "      <td>0.927463</td>\n",
       "    </tr>\n",
       "  </tbody>\n",
       "</table>\n",
       "</div>"
      ],
      "text/plain": [
       "   truism_number perturbation                premise  avg_binary_score  \\\n",
       "0              0     original               original               1.0   \n",
       "1              0     original     asymmetric_premise               0.0   \n",
       "2              0     original  asymmetric_conclusion               0.0   \n",
       "3              0     negation               original               0.0   \n",
       "4              0     negation     asymmetric_premise               1.0   \n",
       "\n",
       "   avg_ratio_score  \n",
       "0         0.882697  \n",
       "1        -0.695894  \n",
       "2        -0.745709  \n",
       "3        -0.931892  \n",
       "4         0.927463  "
      ]
     },
     "execution_count": 364,
     "metadata": {},
     "output_type": "execute_result"
    }
   ],
   "source": []
  },
  {
   "cell_type": "code",
   "execution_count": 250,
   "metadata": {},
   "outputs": [],
   "source": [
    "templates = get_templates([physical_params, material_params, social_params])"
   ]
  },
  {
   "cell_type": "code",
   "execution_count": 251,
   "metadata": {},
   "outputs": [
    {
     "data": {
      "text/plain": [
       "{'4': {}, '1': {}, '3': {}, '2': {}}"
      ]
     },
     "execution_count": 251,
     "metadata": {},
     "output_type": "execute_result"
    }
   ],
   "source": [
    "templates = {}"
   ]
  },
  {
   "cell_type": "code",
   "execution_count": 252,
   "metadata": {},
   "outputs": [],
   "source": [
    "template_perturb_dict = get_perturbations(material_data, templates)\n",
    "for key in template_perturb_dict:\n",
    "    template_perturb_dict[key][\"count\"] = 0"
   ]
  },
  {
   "cell_type": "code",
   "execution_count": 253,
   "metadata": {},
   "outputs": [],
   "source": [
    "perturbation_order = get_perturbation_order(material_data, 24)"
   ]
  },
  {
   "cell_type": "code",
   "execution_count": 254,
   "metadata": {},
   "outputs": [
    {
     "data": {
      "text/plain": [
       "['original-original',\n",
       " 'original-asymmetric_premise',\n",
       " 'original-asymmetric_conclusion',\n",
       " 'negation-original',\n",
       " 'negation-asymmetric_premise',\n",
       " 'negation-asymmetric_conclusion',\n",
       " 'antonym-original',\n",
       " 'antonym-asymmetric_premise',\n",
       " 'antonym-asymmetric_conclusion',\n",
       " 'paraphrase-original',\n",
       " 'paraphrase-asymmetric_premise',\n",
       " 'paraphrase-asymmetric_conclusion',\n",
       " 'paraphrase_inversion-original',\n",
       " 'paraphrase_inversion-asymmetric_premise',\n",
       " 'paraphrase_inversion-asymmetric_conclusion',\n",
       " 'negation_antonym-original',\n",
       " 'negation_antonym-asymmetric_premise',\n",
       " 'negation_antonym-asymmetric_conclusion',\n",
       " 'negation_paraphrase-original',\n",
       " 'negation_paraphrase-asymmetric_premise',\n",
       " 'negation_paraphrase-asymmetric_conclusion',\n",
       " 'negation_paraphrase_inversion-original',\n",
       " 'negation_paraphrase_inversion-asymmetric_premise',\n",
       " 'negation_paraphrase_inversion-asymmetric_conclusion']"
      ]
     },
     "execution_count": 254,
     "metadata": {},
     "output_type": "execute_result"
    }
   ],
   "source": [
    "perturbation_order"
   ]
  },
  {
   "cell_type": "code",
   "execution_count": 255,
   "metadata": {},
   "outputs": [],
   "source": [
    "template_perturb_dict = fill_pertubation_data(material_data, material_params, template_perturb_dict)\n",
    "template_perturb_dict = fill_pertubation_data(physical_data, physical_params, template_perturb_dict)\n",
    "template_perturb_dict = fill_pertubation_data(social_data, social_params, template_perturb_dict)"
   ]
  },
  {
   "cell_type": "code",
   "execution_count": 256,
   "metadata": {},
   "outputs": [],
   "source": [
    "template_accuracy = aggregate_templates(template_perturb_dict, \"accuracy\")\n",
    "template_ratio = aggregate_templates(template_perturb_dict, \"ratio_score\")"
   ]
  },
  {
   "cell_type": "code",
   "execution_count": 257,
   "metadata": {},
   "outputs": [
    {
     "data": {
      "text/plain": [
       "{'4': {'count': 321.0, 'pct': 0.5144230769230769, 'total': 624.0},\n",
       " '1': {'count': 234.0, 'pct': 0.4875, 'total': 480.0},\n",
       " '3': {'count': 49.0, 'pct': 0.5104166666666666, 'total': 96.0},\n",
       " '2': {'count': 111.0, 'pct': 0.4625, 'total': 240.0}}"
      ]
     },
     "execution_count": 257,
     "metadata": {},
     "output_type": "execute_result"
    }
   ],
   "source": [
    "template_accuracy"
   ]
  },
  {
   "cell_type": "code",
   "execution_count": 258,
   "metadata": {},
   "outputs": [
    {
     "data": {
      "text/plain": [
       "{'4': {'count': 8.836309504151519,\n",
       "  'pct': 0.014160752410499229,\n",
       "  'total': 624.0},\n",
       " '1': {'count': -3.3212015856748422,\n",
       "  'pct': -0.006919169970155921,\n",
       "  'total': 480.0},\n",
       " '3': {'count': 7.5570017596598165, 'pct': 0.07871876832978976, 'total': 96.0},\n",
       " '2': {'count': -7.7044481402163285,\n",
       "  'pct': -0.03210186725090137,\n",
       "  'total': 240.0}}"
      ]
     },
     "execution_count": 258,
     "metadata": {},
     "output_type": "execute_result"
    }
   ],
   "source": [
    "template_ratio"
   ]
  },
  {
   "cell_type": "code",
   "execution_count": 307,
   "metadata": {},
   "outputs": [],
   "source": [
    "def display_two_axis_bar_plot(x_labels, x_label, left_units, right_units, \n",
    "                              left_bar_data, right_bar_data, title, save=False):\n",
    "    \n",
    "    # https://matplotlib.org/gallery/api/two_scales.html\n",
    "    \n",
    "    # https://matplotlib.org/gallery/lines_bars_and_markers/barchart.html#sphx-glr-gallery-lines-bars-and-markers-barchart-py\n",
    "    fig, ax1 = plt.subplots()\n",
    "    x = np.arange(len(x_labels))\n",
    "    width = 0.35\n",
    "    \n",
    "    color = 'tab:red'\n",
    "    ax1.set_ylabel(left_units, color=color)\n",
    "    ax1.set_ylim(bottom=0)\n",
    "    rects1 = ax1.bar(x - width/2, left_bar_data, width, label=left_units, color=color)\n",
    "    ax1.tick_params(axis='y', labelcolor=color)\n",
    "    ax1.set_xticks(x)\n",
    "    ax1.set_xticklabels(x_labels, rotation=15)\n",
    "#     ax1.set_xticklabels(x_labels)\n",
    "    ax1.set_xlabel(x_label)\n",
    "    \n",
    "    ax2 = ax1.twinx()  # instantiate a second axes that shares the same x-axis\n",
    "    color = 'tab:blue'\n",
    "    ax2.set_ylabel(right_units, color=color)\n",
    "    ax2.set_ylim(bottom=-1, top=1)\n",
    "    rects2 = ax2.bar(x + width/2, right_bar_data, width, label=right_units, color=color)\n",
    "    ax2.tick_params(axis='y', labelcolor=color)\n",
    "    \n",
    "    ax1.legend(loc=2)\n",
    "    ax2.legend(loc=0)\n",
    "    \n",
    "    autolabel(rects1, ax1, \"tab:red\", False)\n",
    "    autolabel(rects2, ax2, \"tab:blue\", True)\n",
    "    \n",
    "    ax1.set_title(title)\n",
    "    ax1.axhline(y=0.5,color=\"darkgray\", linestyle=\":\") \n",
    "    \n",
    "    fig.tight_layout()  # otherwise the right y-label is slightly clipped\n",
    "    if save:\n",
    "        plt.savefig(\"visual_data/{}.pdf\".format(title), format='pdf', dpi=1200)\n",
    "#         fig.savefig('myimage.svg', )\n",
    "    \n",
    "    plt.show()"
   ]
  },
  {
   "cell_type": "code",
   "execution_count": 349,
   "metadata": {},
   "outputs": [],
   "source": [
    "def display_two_bar_plots(x_labels, x_label, y_label, y_one_label, y_two_label, data_one,\n",
    "                          data_two, title, save=False):\n",
    "    \n",
    "    # https://matplotlib.org/gallery/api/two_scales.html\n",
    "    \n",
    "    # https://matplotlib.org/gallery/lines_bars_and_markers/barchart.html#sphx-glr-gallery-lines-bars-and-markers-barchart-py\n",
    "    fig, ax1 = plt.subplots()\n",
    "    x = np.arange(len(x_labels))\n",
    "    width = 0.35\n",
    "    \n",
    "    color_1 = 'tab:red'\n",
    "    color_2 = 'tab:blue'\n",
    "    ax1.set_ylabel(y_label, color=color_1)\n",
    "#     ax1.set_ylim(bottom=-1, top=1)\n",
    "    ax1.set_ylim(bottom=0, top=1)\n",
    "    rects1 = ax1.bar(x - width/2, data_one, width, label=y_one_label, color=color_1)\n",
    "    rects2 = ax1.bar(x + width/2, data_two, width, label=y_two_label, color=color_2)\n",
    "    ax1.tick_params(axis='y', labelcolor=color_1)\n",
    "    ax1.set_xticks(x)\n",
    "    ax1.set_xticklabels(x_labels, rotation=15)\n",
    "    ax1.set_xlabel(x_label)\n",
    "    \n",
    "\n",
    "#     autolabel(rects1, ax1, color_1, False)\n",
    "#     autolabel(rects2, ax1, color_2, False)\n",
    "    ax1.axhline(y=0.5, color='silver', linestyle=\":\")    \n",
    "    ax1.set_title(title)\n",
    "    ax1.legend(loc=0)\n",
    "    \n",
    "    fig.tight_layout()  # otherwise the right y-label is slightly clipped\n",
    "    if save:\n",
    "        plt.savefig(\"visual_data/{}.pdf\".format(title), format='pdf', dpi=1200)\n",
    "    \n",
    "    plt.show()"
   ]
  },
  {
   "cell_type": "code",
   "execution_count": 414,
   "metadata": {},
   "outputs": [],
   "source": [
    "def display_bar_plot(x_labels, x_label, y_label, data, title, save=False):\n",
    "    \n",
    "    # https://matplotlib.org/gallery/api/two_scales.html\n",
    "    \n",
    "    # https://matplotlib.org/gallery/lines_bars_and_markers/barchart.html#sphx-glr-gallery-lines-bars-and-markers-barchart-py\n",
    "    fig, ax1 = plt.subplots()\n",
    "#     x = np.arange(len(x_labels))\n",
    "    x = np.arange(1, 61, 1)\n",
    "    width = 0.4\n",
    "    \n",
    "    color = 'tab:blue'\n",
    "    ax1.set_ylabel(y_label, color=color)\n",
    "    ax1.set_ylim(bottom=-1, top=1)\n",
    "#     ax1.set_ylim(bottom=0, top=1)\n",
    "    rects1 = ax1.bar(x, data, width, label=y_label, color=color)\n",
    "    ax1.tick_params(axis='y', labelcolor=color)\n",
    "    ax1.set_xticks(np.arange(10, 61, 10))\n",
    "#     ax1.set_xticks(x)\n",
    "    ax1.set_xlim(1, 61)\n",
    "#     ax1.set_xticklabels(x_labels, rotation=45)\n",
    "    ax1.set_xlabel(x_label)\n",
    "\n",
    "#     autolabel(rects1, ax1, color, False)\n",
    "    ax1.axhline(color='silver', linestyle=\":\")    \n",
    "    ax1.set_title(title)\n",
    "    \n",
    "    fig.tight_layout()  # otherwise the right y-label is slightly clipped\n",
    "    if save:\n",
    "        plt.savefig(\"visual_data/{}.pdf\".format(title), format='pdf', dpi=1200)\n",
    "    \n",
    "    plt.show()"
   ]
  },
  {
   "cell_type": "code",
   "execution_count": 311,
   "metadata": {},
   "outputs": [
    {
     "data": {
      "image/png": "[encoded data removed]",
      "text/plain": [
       "<Figure size 432x288 with 2 Axes>"
      ]
     },
     "metadata": {
      "needs_background": "light"
     },
     "output_type": "display_data"
    }
   ],
   "source": [
    "x_labels = [\"1 (480)\", \"2 (96)\", \"3 (144)\", \"4 (624)\"]\n",
    "x_label = \"Template (num_trials)\"\n",
    "left_units = \"Avg Accuracy %\"\n",
    "right_units = \"Avg Confidence Ratio\"\n",
    "left_bar_data = [round(template_accuracy[str(i)][\"pct\"], 3) for i in range(1, 5)]\n",
    "right_bar_data = [round(template_ratio[str(i)][\"pct\"], 3) for i in range(1, 5)]\n",
    "title = \"Performance of RoBERTa\"\n",
    "display_two_axis_bar_plot(x_labels, x_label, left_units, right_units, \n",
    "                              left_bar_data, right_bar_data, title, True)"
   ]
  },
  {
   "cell_type": "code",
   "execution_count": 312,
   "metadata": {},
   "outputs": [],
   "source": [
    "perturbation_accuracy = aggregate_pertubations(template_perturb_dict, \"accuracy\")\n",
    "perturbation_ratio = aggregate_pertubations(template_perturb_dict, \"ratio_score\")"
   ]
  },
  {
   "cell_type": "code",
   "execution_count": 313,
   "metadata": {},
   "outputs": [],
   "source": [
    "linguistic_operations = [\"original-original\", \"negation-original\", \"antonym-original\", \"paraphrase-original\", \n",
    "                         \"paraphrase_inversion-original\",\n",
    "                         \"negation_antonym-original\", \"negation_paraphrase-original\", \n",
    "                         \"negation_paraphrase_inversion-original\"]"
   ]
  },
  {
   "cell_type": "code",
   "execution_count": 314,
   "metadata": {},
   "outputs": [],
   "source": [
    "grouped_perturbation_accuracy = {}\n",
    "for operator in linguistic_operations:\n",
    "    count = 0\n",
    "    total = 0\n",
    "    for key in perturbation_accuracy:\n",
    "        if key == operator:\n",
    "            count += perturbation_accuracy[key][\"count\"]\n",
    "            total += perturbation_accuracy[key][\"total\"]\n",
    "    grouped_perturbation_accuracy[operator] = count / total"
   ]
  },
  {
   "cell_type": "code",
   "execution_count": 315,
   "metadata": {},
   "outputs": [
    {
     "data": {
      "text/plain": [
       "{'original-original': 0.5833333333333334,\n",
       " 'negation-original': 0.5166666666666667,\n",
       " 'antonym-original': 0.5,\n",
       " 'paraphrase-original': 0.6,\n",
       " 'paraphrase_inversion-original': 0.4666666666666667,\n",
       " 'negation_antonym-original': 0.5,\n",
       " 'negation_paraphrase-original': 0.5166666666666667,\n",
       " 'negation_paraphrase_inversion-original': 0.5666666666666667}"
      ]
     },
     "execution_count": 315,
     "metadata": {},
     "output_type": "execute_result"
    }
   ],
   "source": [
    "grouped_perturbation_accuracy"
   ]
  },
  {
   "cell_type": "code",
   "execution_count": 316,
   "metadata": {},
   "outputs": [],
   "source": [
    "grouped_perturbation_ratio = {}\n",
    "for operator in linguistic_operations:\n",
    "    count = 0\n",
    "    total = 0\n",
    "    for key in perturbation_ratio:\n",
    "        if key == operator:\n",
    "            count += perturbation_ratio[key][\"count\"]\n",
    "            total += perturbation_ratio[key][\"total\"]\n",
    "    grouped_perturbation_ratio[operator] = count / total"
   ]
  },
  {
   "cell_type": "code",
   "execution_count": 317,
   "metadata": {},
   "outputs": [
    {
     "data": {
      "text/plain": [
       "{'original-original': 0.1776021708120168,\n",
       " 'negation-original': 0.04467364237516148,\n",
       " 'antonym-original': 0.002817800462726379,\n",
       " 'paraphrase-original': 0.2137593801637075,\n",
       " 'paraphrase_inversion-original': 0.00969847279578561,\n",
       " 'negation_antonym-original': 0.05610696669189432,\n",
       " 'negation_paraphrase-original': 0.09650052166500972,\n",
       " 'negation_paraphrase_inversion-original': 0.10015129199950122}"
      ]
     },
     "execution_count": 317,
     "metadata": {},
     "output_type": "execute_result"
    }
   ],
   "source": [
    "grouped_perturbation_ratio"
   ]
  },
  {
   "cell_type": "code",
   "execution_count": 325,
   "metadata": {},
   "outputs": [
    {
     "data": {
      "image/png": "[encoded data removed]",
      "text/plain": [
       "<Figure size 432x288 with 2 Axes>"
      ]
     },
     "metadata": {
      "needs_background": "light"
     },
     "output_type": "display_data"
    }
   ],
   "source": [
    "x_labels = [\"orig\", \"neg\", \"ant\", \"para\", \"para_inv\", \"neg_ant\", \"neg_para\", \"neg_para_inv\"]\n",
    "x_label = \"Linguistic Operation (60 trials each)\"\n",
    "left_units = \"Avg Accuracy %\"\n",
    "left_bar_data = [round(grouped_perturbation_accuracy[key], 3) for key in linguistic_operations]\n",
    "right_units = \"Avg Confidence Ratio\"\n",
    "right_bar_data = [round(grouped_perturbation_ratio[key], 3) for key in linguistic_operations]\n",
    "title = \"Linguistic Variation Test of RoBERTa\"\n",
    "display_two_axis_bar_plot(x_labels, x_label, left_units, right_units, \n",
    "                              left_bar_data, right_bar_data, title, False)"
   ]
  },
  {
   "cell_type": "code",
   "execution_count": 273,
   "metadata": {},
   "outputs": [
    {
     "data": {
      "image/png": "[encoded data removed]",
      "text/plain": [
       "<Figure size 432x288 with 1 Axes>"
      ]
     },
     "metadata": {
      "needs_background": "light"
     },
     "output_type": "display_data"
    }
   ],
   "source": [
    "x_labels = [\"orig\", \"neg\", \"ant\", \"para\", \"para_inv\", \"neg_ant\", \"neg_para\", \"neg_para_inv\"]\n",
    "x_label = \"Linguistic Operation (60 trials each)\"\n",
    "left_units = \"Avg Accuracy %\"\n",
    "left_bar_data = [round(grouped_perturbation_accuracy[key], 3) for key in linguistic_operations]\n",
    "title = \"Linguistic Variation Test of RoBERTa (Accuracy)\"\n",
    "display_bar_plot(x_labels, x_label, left_units, left_bar_data, title, False)"
   ]
  },
  {
   "cell_type": "code",
   "execution_count": 274,
   "metadata": {},
   "outputs": [
    {
     "data": {
      "image/png": "[encoded data removed]",
      "text/plain": [
       "<Figure size 432x288 with 1 Axes>"
      ]
     },
     "metadata": {
      "needs_background": "light"
     },
     "output_type": "display_data"
    }
   ],
   "source": [
    "x_labels = [\"orig\", \"neg\", \"ant\", \"para\", \"para_inv\", \"neg_ant\", \"neg_para\", \"neg_para_inv\"]\n",
    "x_label = \"Linguistic Operation (60 trials each)\"\n",
    "# left_units = \"Avg Accuracy %\"\n",
    "right_units = \"Avg Confidence Ratio\"\n",
    "right_bar_data = [round(grouped_perturbation_ratio[key], 3) for key in linguistic_operations]\n",
    "title = \"Linguistic Variation Test of RoBERTa (Confidence Ratio)\"\n",
    "display_bar_plot(x_labels, x_label, right_units, right_bar_data, title, False)"
   ]
  },
  {
   "cell_type": "code",
   "execution_count": 326,
   "metadata": {},
   "outputs": [],
   "source": [
    "logicial_operations = [\"original\", \"asymmetric_premise\", \"asymmetric_conclusion\"]"
   ]
  },
  {
   "cell_type": "code",
   "execution_count": 327,
   "metadata": {},
   "outputs": [],
   "source": [
    "grouped_logical_accuracy = {}\n",
    "for operator in logicial_operations:\n",
    "    count = 0\n",
    "    total = 0\n",
    "    for key in perturbation_accuracy:\n",
    "        if key != \"count\":\n",
    "            if key.split(\"-\")[1] == operator:\n",
    "                count += perturbation_accuracy[key][\"count\"]\n",
    "                total += perturbation_accuracy[key][\"total\"]\n",
    "    grouped_logical_accuracy[operator] = count / total"
   ]
  },
  {
   "cell_type": "code",
   "execution_count": 328,
   "metadata": {},
   "outputs": [
    {
     "data": {
      "text/plain": [
       "{'original': 0.53125,\n",
       " 'asymmetric_premise': 0.47708333333333336,\n",
       " 'asymmetric_conclusion': 0.48125}"
      ]
     },
     "execution_count": 328,
     "metadata": {},
     "output_type": "execute_result"
    }
   ],
   "source": [
    "grouped_logical_accuracy"
   ]
  },
  {
   "cell_type": "code",
   "execution_count": 329,
   "metadata": {},
   "outputs": [],
   "source": [
    "grouped_logical_ratio = {}\n",
    "for operator in logicial_operations:\n",
    "    count = 0\n",
    "    total = 0\n",
    "    for key in perturbation_accuracy:\n",
    "        if key != \"count\":\n",
    "            if key.split(\"-\")[1] == operator:\n",
    "                count += perturbation_ratio[key][\"count\"]\n",
    "                total += perturbation_ratio[key][\"total\"]\n",
    "    grouped_logical_ratio[operator] = count / total"
   ]
  },
  {
   "cell_type": "code",
   "execution_count": 330,
   "metadata": {},
   "outputs": [
    {
     "data": {
      "text/plain": [
       "{'original': 0.08766378087072538,\n",
       " 'asymmetric_premise': -0.03955724605296031,\n",
       " 'asymmetric_conclusion': -0.036923906613764726}"
      ]
     },
     "execution_count": 330,
     "metadata": {},
     "output_type": "execute_result"
    }
   ],
   "source": [
    "grouped_logical_ratio"
   ]
  },
  {
   "cell_type": "code",
   "execution_count": 334,
   "metadata": {},
   "outputs": [
    {
     "data": {
      "image/png": "[encoded data removed]",
      "text/plain": [
       "<Figure size 432x288 with 2 Axes>"
      ]
     },
     "metadata": {
      "needs_background": "light"
     },
     "output_type": "display_data"
    }
   ],
   "source": [
    "x_labels = [\"original\", \"asym_premise\", \"asym_conclusion\"]\n",
    "x_label = \"Logical Operation (480 trials each)\"\n",
    "left_units = \"Avg Accuracy %\"\n",
    "right_units = \"Avg Confidence Ratio\"\n",
    "left_bar_data = [round(grouped_logical_accuracy[key], 3) for key in grouped_logical_ratio]\n",
    "right_bar_data = [round(grouped_logical_ratio[key], 3) for key in grouped_logical_ratio]\n",
    "title = \"Asymmetric Test of RoBERTa\"\n",
    "display_two_axis_bar_plot(x_labels, x_label, left_units, right_units, \n",
    "                              left_bar_data, right_bar_data, title, False)"
   ]
  },
  {
   "cell_type": "code",
   "execution_count": 214,
   "metadata": {},
   "outputs": [],
   "source": [
    "more_vs_less = {\"more\" : {}, \"less\" : {}}"
   ]
  },
  {
   "cell_type": "code",
   "execution_count": 215,
   "metadata": {},
   "outputs": [],
   "source": [
    "more_vs_less = get_perturbations(material_data, more_vs_less)\n",
    "for key in more_vs_less:\n",
    "    more_vs_less[key][\"count\"] = 0"
   ]
  },
  {
   "cell_type": "code",
   "execution_count": 216,
   "metadata": {},
   "outputs": [],
   "source": [
    "# more_vs_less"
   ]
  },
  {
   "cell_type": "code",
   "execution_count": 217,
   "metadata": {},
   "outputs": [],
   "source": [
    "more_vs_less = fill_pertubation_data_m(material_data, material_params, more_vs_less)\n",
    "more_vs_less = fill_pertubation_data_m(physical_data, physical_params, more_vs_less)\n",
    "more_vs_less = fill_pertubation_data_m(social_data, social_params, more_vs_less)"
   ]
  },
  {
   "cell_type": "code",
   "execution_count": 417,
   "metadata": {},
   "outputs": [],
   "source": [
    "# "
   ]
  },
  {
   "cell_type": "code",
   "execution_count": 218,
   "metadata": {},
   "outputs": [],
   "source": [
    "more_accuracy = aggregate_pertubations_m(more_vs_less[\"more\"], \"accuracy\")\n",
    "less_accuracy = aggregate_pertubations_m(more_vs_less[\"less\"], \"accuracy\")"
   ]
  },
  {
   "cell_type": "code",
   "execution_count": 418,
   "metadata": {},
   "outputs": [
    {
     "data": {
      "text/plain": [
       "{'original-original': {'count': 29.0, 'pct': 0.9666666666666667, 'total': 30},\n",
       " 'original-asymmetric_premise': {'count': 1.0,\n",
       "  'pct': 0.03333333333333333,\n",
       "  'total': 30},\n",
       " 'original-asymmetric_conclusion': {'count': 3.0, 'pct': 0.1, 'total': 30},\n",
       " 'negation-original': {'count': 2.0, 'pct': 0.06666666666666667, 'total': 30},\n",
       " 'negation-asymmetric_premise': {'count': 29.0,\n",
       "  'pct': 0.9666666666666667,\n",
       "  'total': 30},\n",
       " 'negation-asymmetric_conclusion': {'count': 29.0,\n",
       "  'pct': 0.9666666666666667,\n",
       "  'total': 30},\n",
       " 'antonym-original': {'count': 4.0, 'pct': 0.13333333333333333, 'total': 30},\n",
       " 'antonym-asymmetric_premise': {'count': 27.0, 'pct': 0.9, 'total': 30},\n",
       " 'antonym-asymmetric_conclusion': {'count': 28.0,\n",
       "  'pct': 0.9333333333333333,\n",
       "  'total': 30},\n",
       " 'paraphrase-original': {'count': 28.0,\n",
       "  'pct': 0.9333333333333333,\n",
       "  'total': 30},\n",
       " 'paraphrase-asymmetric_premise': {'count': 2.0,\n",
       "  'pct': 0.06666666666666667,\n",
       "  'total': 30},\n",
       " 'paraphrase-asymmetric_conclusion': {'count': 1.0,\n",
       "  'pct': 0.03333333333333333,\n",
       "  'total': 30},\n",
       " 'paraphrase_inversion-original': {'count': 8.0,\n",
       "  'pct': 0.26666666666666666,\n",
       "  'total': 30},\n",
       " 'paraphrase_inversion-asymmetric_premise': {'count': 26.0,\n",
       "  'pct': 0.8666666666666667,\n",
       "  'total': 30},\n",
       " 'paraphrase_inversion-asymmetric_conclusion': {'count': 27.0,\n",
       "  'pct': 0.9,\n",
       "  'total': 30},\n",
       " 'negation_antonym-original': {'count': 30.0, 'pct': 1.0, 'total': 30},\n",
       " 'negation_antonym-asymmetric_premise': {'count': 0.0,\n",
       "  'pct': 0.0,\n",
       "  'total': 30},\n",
       " 'negation_antonym-asymmetric_conclusion': {'count': 0.0,\n",
       "  'pct': 0.0,\n",
       "  'total': 30},\n",
       " 'negation_paraphrase-original': {'count': 2.0,\n",
       "  'pct': 0.06666666666666667,\n",
       "  'total': 30},\n",
       " 'negation_paraphrase-asymmetric_premise': {'count': 27.0,\n",
       "  'pct': 0.9,\n",
       "  'total': 30},\n",
       " 'negation_paraphrase-asymmetric_conclusion': {'count': 26.0,\n",
       "  'pct': 0.8666666666666667,\n",
       "  'total': 30},\n",
       " 'negation_paraphrase_inversion-original': {'count': 29.0,\n",
       "  'pct': 0.9666666666666667,\n",
       "  'total': 30},\n",
       " 'negation_paraphrase_inversion-asymmetric_premise': {'count': 0.0,\n",
       "  'pct': 0.0,\n",
       "  'total': 30},\n",
       " 'negation_paraphrase_inversion-asymmetric_conclusion': {'count': 0.0,\n",
       "  'pct': 0.0,\n",
       "  'total': 30},\n",
       " 'count': {'count': 0, 'pct': 0.0, 'total': 30}}"
      ]
     },
     "execution_count": 418,
     "metadata": {},
     "output_type": "execute_result"
    }
   ],
   "source": [
    "more_accuracy"
   ]
  },
  {
   "cell_type": "code",
   "execution_count": 222,
   "metadata": {},
   "outputs": [
    {
     "data": {
      "text/plain": [
       "{'original-original': 0.9666666666666667,\n",
       " 'negation-original': 0.06666666666666667,\n",
       " 'antonym-original': 0.13333333333333333,\n",
       " 'paraphrase-original': 0.9333333333333333,\n",
       " 'paraphrase_inversion-original': 0.26666666666666666,\n",
       " 'negation_antonym-original': 1.0,\n",
       " 'negation_paraphrase-original': 0.06666666666666667,\n",
       " 'negation_paraphrase_inversion-original': 0.9666666666666667}"
      ]
     },
     "execution_count": 222,
     "metadata": {},
     "output_type": "execute_result"
    }
   ],
   "source": [
    "grouped_more_perturbation_accuracy = {}\n",
    "for operator in linguistic_operations:\n",
    "    count = 0\n",
    "    total = 0\n",
    "    for key in more_accuracy:\n",
    "        if key == operator:\n",
    "            count += more_accuracy[key][\"count\"]\n",
    "            total += more_accuracy[key][\"total\"]\n",
    "    grouped_more_perturbation_accuracy[operator] = count / total\n",
    "\n",
    "grouped_more_perturbation_accuracy"
   ]
  },
  {
   "cell_type": "code",
   "execution_count": 223,
   "metadata": {},
   "outputs": [
    {
     "data": {
      "text/plain": [
       "{'original-original': 0.2,\n",
       " 'negation-original': 0.9666666666666667,\n",
       " 'antonym-original': 0.8666666666666667,\n",
       " 'paraphrase-original': 0.26666666666666666,\n",
       " 'paraphrase_inversion-original': 0.6666666666666666,\n",
       " 'negation_antonym-original': 0.0,\n",
       " 'negation_paraphrase-original': 0.9666666666666667,\n",
       " 'negation_paraphrase_inversion-original': 0.16666666666666666}"
      ]
     },
     "execution_count": 223,
     "metadata": {},
     "output_type": "execute_result"
    }
   ],
   "source": [
    "grouped_less_perturbation_accuracy = {}\n",
    "for operator in linguistic_operations:\n",
    "    count = 0\n",
    "    total = 0\n",
    "    for key in less_accuracy:\n",
    "        if key == operator:\n",
    "            count += less_accuracy[key][\"count\"]\n",
    "            total += less_accuracy[key][\"total\"]\n",
    "    grouped_less_perturbation_accuracy[operator] = count / total\n",
    "\n",
    "grouped_less_perturbation_accuracy"
   ]
  },
  {
   "cell_type": "code",
   "execution_count": 362,
   "metadata": {},
   "outputs": [
    {
     "data": {
      "image/png": "[encoded data removed]",
      "text/plain": [
       "<Figure size 432x288 with 1 Axes>"
      ]
     },
     "metadata": {
      "needs_background": "light"
     },
     "output_type": "display_data"
    }
   ],
   "source": [
    "x_labels = [\"orig\", \"neg\", \"ant\", \"para\", \"para_inv\", \"neg_ant\", \"neg_para\", \"neg_para_inv\"]\n",
    "x_label = \"Linguistic Operators (30 trials each)\"\n",
    "y_label = \"Avg Accuracy %\"\n",
    "y_one_label = \"More Truisms\"\n",
    "data_one = [round(grouped_more_perturbation_accuracy[key], 3) for key in linguistic_operations]\n",
    "y_two_label = \"Less Truisms\"\n",
    "data_two = [round(grouped_less_perturbation_accuracy[key], 3) for key in linguistic_operations]\n",
    "title = \"More vs Less Truisms--Linguistic Test\"\n",
    "display_two_bar_plots(x_labels, x_label, y_label, y_one_label, y_two_label, data_one,\n",
    "                      data_two, title, True)"
   ]
  },
  {
   "cell_type": "code",
   "execution_count": 336,
   "metadata": {},
   "outputs": [],
   "source": [
    "grouped_logical_more_accuracy = {}\n",
    "for operator in logicial_operations:\n",
    "    count = 0\n",
    "    total = 0\n",
    "    for key in more_accuracy:\n",
    "        if key != \"count\":\n",
    "            if key.split(\"-\")[1] == operator:\n",
    "                count += more_accuracy[key][\"count\"]\n",
    "                total += more_accuracy[key][\"total\"]\n",
    "    grouped_logical_more_accuracy[operator] = count / total"
   ]
  },
  {
   "cell_type": "code",
   "execution_count": 338,
   "metadata": {},
   "outputs": [],
   "source": [
    "grouped_logical_less_accuracy = {}\n",
    "for operator in logicial_operations:\n",
    "    count = 0\n",
    "    total = 0\n",
    "    for key in less_accuracy:\n",
    "        if key != \"count\":\n",
    "            if key.split(\"-\")[1] == operator:\n",
    "                count += less_accuracy[key][\"count\"]\n",
    "                total += less_accuracy[key][\"total\"]\n",
    "    grouped_logical_less_accuracy[operator] = count / total"
   ]
  },
  {
   "cell_type": "code",
   "execution_count": 363,
   "metadata": {},
   "outputs": [
    {
     "data": {
      "image/png": "[encoded data removed]",
      "text/plain": [
       "<Figure size 432x288 with 1 Axes>"
      ]
     },
     "metadata": {
      "needs_background": "light"
     },
     "output_type": "display_data"
    }
   ],
   "source": [
    "x_labels = [\"original\", \"asym_premise\", \"asym_conclusion\"]\n",
    "x_label = \"Logical Operators (480 trials each)\"\n",
    "y_label = \"Avg Accuracy %\"\n",
    "y_one_label = \"More Truisms\"\n",
    "data_one = [round(grouped_logical_more_accuracy[key], 3) for key in logicial_operations]\n",
    "y_two_label = \"Less Truisms\"\n",
    "data_two = [round(grouped_logical_less_accuracy[key], 3) for key in logicial_operations]\n",
    "title = \"More vs Less Truisms--Asymmetric Test\"\n",
    "display_two_bar_plots(x_labels, x_label, y_label, y_one_label, y_two_label, data_one,\n",
    "                      data_two, title, True)"
   ]
  },
  {
   "cell_type": "code",
   "execution_count": 365,
   "metadata": {},
   "outputs": [
    {
     "data": {
      "text/html": [
       "<div>\n",
       "<style scoped>\n",
       "    .dataframe tbody tr th:only-of-type {\n",
       "        vertical-align: middle;\n",
       "    }\n",
       "\n",
       "    .dataframe tbody tr th {\n",
       "        vertical-align: top;\n",
       "    }\n",
       "\n",
       "    .dataframe thead th {\n",
       "        text-align: right;\n",
       "    }\n",
       "</style>\n",
       "<table border=\"1\" class=\"dataframe\">\n",
       "  <thead>\n",
       "    <tr style=\"text-align: right;\">\n",
       "      <th></th>\n",
       "      <th>truism_number</th>\n",
       "      <th>perturbation</th>\n",
       "      <th>premise</th>\n",
       "      <th>avg_binary_score</th>\n",
       "      <th>avg_ratio_score</th>\n",
       "    </tr>\n",
       "  </thead>\n",
       "  <tbody>\n",
       "    <tr>\n",
       "      <th>0</th>\n",
       "      <td>0</td>\n",
       "      <td>original</td>\n",
       "      <td>original</td>\n",
       "      <td>1.0</td>\n",
       "      <td>0.882697</td>\n",
       "    </tr>\n",
       "    <tr>\n",
       "      <th>1</th>\n",
       "      <td>0</td>\n",
       "      <td>original</td>\n",
       "      <td>asymmetric_premise</td>\n",
       "      <td>0.0</td>\n",
       "      <td>-0.695894</td>\n",
       "    </tr>\n",
       "    <tr>\n",
       "      <th>2</th>\n",
       "      <td>0</td>\n",
       "      <td>original</td>\n",
       "      <td>asymmetric_conclusion</td>\n",
       "      <td>0.0</td>\n",
       "      <td>-0.745709</td>\n",
       "    </tr>\n",
       "    <tr>\n",
       "      <th>3</th>\n",
       "      <td>0</td>\n",
       "      <td>negation</td>\n",
       "      <td>original</td>\n",
       "      <td>0.0</td>\n",
       "      <td>-0.931892</td>\n",
       "    </tr>\n",
       "    <tr>\n",
       "      <th>4</th>\n",
       "      <td>0</td>\n",
       "      <td>negation</td>\n",
       "      <td>asymmetric_premise</td>\n",
       "      <td>1.0</td>\n",
       "      <td>0.927463</td>\n",
       "    </tr>\n",
       "  </tbody>\n",
       "</table>\n",
       "</div>"
      ],
      "text/plain": [
       "   truism_number perturbation                premise  avg_binary_score  \\\n",
       "0              0     original               original               1.0   \n",
       "1              0     original     asymmetric_premise               0.0   \n",
       "2              0     original  asymmetric_conclusion               0.0   \n",
       "3              0     negation               original               0.0   \n",
       "4              0     negation     asymmetric_premise               1.0   \n",
       "\n",
       "   avg_ratio_score  \n",
       "0         0.882697  \n",
       "1        -0.695894  \n",
       "2        -0.745709  \n",
       "3        -0.931892  \n",
       "4         0.927463  "
      ]
     },
     "execution_count": 365,
     "metadata": {},
     "output_type": "execute_result"
    }
   ],
   "source": [
    "material_data.head()"
   ]
  },
  {
   "cell_type": "code",
   "execution_count": 383,
   "metadata": {},
   "outputs": [],
   "source": [
    "finished_truisms = {}\n",
    "curr_truism = 0\n",
    "truisms_data = {}\n",
    "for i, row in material_data.iterrows():\n",
    "    truism_number = row[\"truism_number\"]\n",
    "    key = \"material-{}\".format(truism_number)\n",
    "    if key not in finished_truisms:\n",
    "        curr_truism += 1\n",
    "        finished_truisms[key] = 1\n",
    "\n",
    "    if curr_truism in truisms_data:\n",
    "        truisms_data[curr_truism][\"avg_binary_score\"] += row[\"avg_binary_score\"]\n",
    "        truisms_data[curr_truism][\"avg_ratio_score\"] += row[\"avg_ratio_score\"]\n",
    "    else:\n",
    "        truisms_data[curr_truism] = {}\n",
    "        truisms_data[curr_truism][\"avg_binary_score\"] = row[\"avg_binary_score\"]\n",
    "        truisms_data[curr_truism][\"avg_ratio_score\"] = row[\"avg_ratio_score\"]\n",
    "\n",
    "for i, row in physical_data.iterrows():\n",
    "    truism_number = row[\"truism_number\"]\n",
    "    key = \"physical-{}\".format(truism_number)\n",
    "    if key not in finished_truisms:\n",
    "        curr_truism += 1\n",
    "        finished_truisms[key] = 1\n",
    "\n",
    "    if curr_truism in truisms_data:\n",
    "        truisms_data[curr_truism][\"avg_binary_score\"] += row[\"avg_binary_score\"]\n",
    "        truisms_data[curr_truism][\"avg_ratio_score\"] += row[\"avg_ratio_score\"]\n",
    "    else:\n",
    "        truisms_data[curr_truism] = {}\n",
    "        truisms_data[curr_truism][\"avg_binary_score\"] = row[\"avg_binary_score\"]\n",
    "        truisms_data[curr_truism][\"avg_ratio_score\"] = row[\"avg_ratio_score\"]\n",
    "\n",
    "for i, row in social_data.iterrows():\n",
    "    truism_number = row[\"truism_number\"]\n",
    "    key = \"social-{}\".format(truism_number)\n",
    "    if key not in finished_truisms:\n",
    "        curr_truism += 1\n",
    "        finished_truisms[key] = 1\n",
    "\n",
    "    if curr_truism in truisms_data:\n",
    "        truisms_data[curr_truism][\"avg_binary_score\"] += row[\"avg_binary_score\"]\n",
    "        truisms_data[curr_truism][\"avg_ratio_score\"] += row[\"avg_ratio_score\"]\n",
    "    else:\n",
    "        truisms_data[curr_truism] = {}\n",
    "        truisms_data[curr_truism][\"avg_binary_score\"] = row[\"avg_binary_score\"]\n",
    "        truisms_data[curr_truism][\"avg_ratio_score\"] = row[\"avg_ratio_score\"]\n",
    "\n",
    "for key in truisms_data:\n",
    "    truisms_data[key][\"avg_binary_score\"] = truisms_data[key][\"avg_binary_score\"] / 24.0\n",
    "    truisms_data[key][\"avg_ratio_score\"] = truisms_data[key][\"avg_ratio_score\"] / 24.0"
   ]
  },
  {
   "cell_type": "code",
   "execution_count": 419,
   "metadata": {},
   "outputs": [],
   "source": [
    "# truisms_data"
   ]
  },
  {
   "cell_type": "code",
   "execution_count": 412,
   "metadata": {},
   "outputs": [
    {
     "data": {
      "image/png": "[encoded data removed]",
      "text/plain": [
       "<Figure size 432x288 with 1 Axes>"
      ]
     },
     "metadata": {
      "needs_background": "light"
     },
     "output_type": "display_data"
    }
   ],
   "source": [
    "x_labels = list(truisms_data.keys())\n",
    "x_label = \"Truisms\"\n",
    "left_units = \"Avg Accuracy %\"\n",
    "left_bar_data = [round(truisms_data[key][\"avg_binary_score\"], 3) for key in x_labels]\n",
    "# left_bar_data\n",
    "title = \"Avg Accuracy per Truism across all Perturbations\"\n",
    "display_bar_plot([], x_label, left_units, left_bar_data, title, True)"
   ]
  },
  {
   "cell_type": "code",
   "execution_count": 415,
   "metadata": {},
   "outputs": [
    {
     "data": {
      "image/png": "[encoded data removed]",
      "text/plain": [
       "<Figure size 432x288 with 1 Axes>"
      ]
     },
     "metadata": {
      "needs_background": "light"
     },
     "output_type": "display_data"
    }
   ],
   "source": [
    "x_labels = list(truisms_data.keys())\n",
    "x_label = \"Truisms\"\n",
    "left_units = \"Avg Confidence Ratio\"\n",
    "left_bar_data = [round(truisms_data[key][\"avg_ratio_score\"], 3) for key in x_labels]\n",
    "# left_bar_data\n",
    "title = \"Avg Confidence Ratio per Truism across all Perturbations\"\n",
    "display_bar_plot([], x_label, left_units, left_bar_data, title, True)"
   ]
  },
  {
   "cell_type": "code",
   "execution_count": null,
   "metadata": {},
   "outputs": [],
   "source": []
  }
 ],
 "metadata": {
  "kernelspec": {
   "display_name": "Python 3",
   "language": "python",
   "name": "python3"
  },
  "language_info": {
   "codemirror_mode": {
    "name": "ipython",
    "version": 3
   },
   "file_extension": ".py",
   "mimetype": "text/x-python",
   "name": "python",
   "nbconvert_exporter": "python",
   "pygments_lexer": "ipython3",
   "version": "3.6.5"
  }
 },
 "nbformat": 4,
 "nbformat_minor": 2
}
