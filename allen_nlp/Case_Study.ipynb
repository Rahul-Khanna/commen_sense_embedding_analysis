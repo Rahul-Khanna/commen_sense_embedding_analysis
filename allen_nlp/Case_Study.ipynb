{
 "cells": [
  {
   "cell_type": "code",
   "execution_count": 1,
   "metadata": {
    "collapsed": true
   },
   "outputs": [],
   "source": [
    "import pandas as pd"
   ]
  },
  {
   "cell_type": "code",
   "execution_count": 2,
   "metadata": {
    "collapsed": true
   },
   "outputs": [],
   "source": [
    "data = pd.read_csv(\"helpful_words_for_social_w_names_top_5.csv\")"
   ]
  },
  {
   "cell_type": "code",
   "execution_count": 3,
   "metadata": {},
   "outputs": [
    {
     "data": {
      "text/html": [
       "<div>\n",
       "<style>\n",
       "    .dataframe thead tr:only-child th {\n",
       "        text-align: right;\n",
       "    }\n",
       "\n",
       "    .dataframe thead th {\n",
       "        text-align: left;\n",
       "    }\n",
       "\n",
       "    .dataframe tbody tr th {\n",
       "        vertical-align: top;\n",
       "    }\n",
       "</style>\n",
       "<table border=\"1\" class=\"dataframe\">\n",
       "  <thead>\n",
       "    <tr style=\"text-align: right;\">\n",
       "      <th></th>\n",
       "      <th>perturbation</th>\n",
       "      <th>sentence</th>\n",
       "      <th>helpful_words</th>\n",
       "    </tr>\n",
       "  </thead>\n",
       "  <tbody>\n",
       "    <tr>\n",
       "      <th>0</th>\n",
       "      <td>0-original-original</td>\n",
       "      <td>A makes the varsity team while B does not, so ...</td>\n",
       "      <td>['so', 'skilled', 'than']</td>\n",
       "    </tr>\n",
       "    <tr>\n",
       "      <th>1</th>\n",
       "      <td>0-original-asymmetric_premise</td>\n",
       "      <td>B makes the varsity team while A does not, so ...</td>\n",
       "      <td>['skilled', '[MASK]', 'than']</td>\n",
       "    </tr>\n",
       "    <tr>\n",
       "      <th>2</th>\n",
       "      <td>0-original-asymmetric_conclusion</td>\n",
       "      <td>A makes the varsity team while B does not, so ...</td>\n",
       "      <td>['skilled', 'than']</td>\n",
       "    </tr>\n",
       "    <tr>\n",
       "      <th>3</th>\n",
       "      <td>0-negation-original</td>\n",
       "      <td>A makes the varsity team while B does not, so ...</td>\n",
       "      <td>['than', 't', 'so']</td>\n",
       "    </tr>\n",
       "    <tr>\n",
       "      <th>4</th>\n",
       "      <td>0-negation-asymmetric_premise</td>\n",
       "      <td>B makes the varsity team while A does not, so ...</td>\n",
       "      <td>['skilled', '[MASK]', 'than']</td>\n",
       "    </tr>\n",
       "  </tbody>\n",
       "</table>\n",
       "</div>"
      ],
      "text/plain": [
       "                       perturbation  \\\n",
       "0               0-original-original   \n",
       "1     0-original-asymmetric_premise   \n",
       "2  0-original-asymmetric_conclusion   \n",
       "3               0-negation-original   \n",
       "4     0-negation-asymmetric_premise   \n",
       "\n",
       "                                            sentence  \\\n",
       "0  A makes the varsity team while B does not, so ...   \n",
       "1  B makes the varsity team while A does not, so ...   \n",
       "2  A makes the varsity team while B does not, so ...   \n",
       "3  A makes the varsity team while B does not, so ...   \n",
       "4  B makes the varsity team while A does not, so ...   \n",
       "\n",
       "                   helpful_words  \n",
       "0      ['so', 'skilled', 'than']  \n",
       "1  ['skilled', '[MASK]', 'than']  \n",
       "2            ['skilled', 'than']  \n",
       "3            ['than', 't', 'so']  \n",
       "4  ['skilled', '[MASK]', 'than']  "
      ]
     },
     "execution_count": 3,
     "metadata": {},
     "output_type": "execute_result"
    }
   ],
   "source": [
    "data.head()"
   ]
  },
  {
   "cell_type": "code",
   "execution_count": 4,
   "metadata": {
    "collapsed": true
   },
   "outputs": [],
   "source": [
    "not_perturbations = []\n",
    "not_pertubation_recall = []\n",
    "\n",
    "greater_than_words = {}\n",
    "less_than_words = {}\n",
    "\n",
    "than_perturbations = []\n",
    "than_perturbation_recall = []\n",
    "for i, row in data.iterrows():\n",
    "    sent = row[\"sentence\"]\n",
    "    helpful_words = eval(row[\"helpful_words\"])\n",
    "    parts = sent.split(\",\")\n",
    "    \n",
    "    if \"not\" in parts[1]:\n",
    "        not_perturbations.append(row[\"perturbation\"])\n",
    "        \n",
    "        if \"not\" in helpful_words or \"t\" in helpful_words or \"isn\" in helpful_words or \"''\" in helpful_words:\n",
    "            \n",
    "            not_pertubation_recall.append(row[\"perturbation\"])\n",
    "        \n",
    "    \n",
    "    if \"easier\" in parts[1] or \"more\" in parts[1] or \"better\" in parts[1]:\n",
    "        for word in helpful_words:\n",
    "            if word in greater_than_words:\n",
    "                greater_than_words[word] += 1\n",
    "            else:\n",
    "                greater_than_words[word] = 1\n",
    "    else:\n",
    "        for word in helpful_words:\n",
    "            if word in less_than_words:\n",
    "                less_than_words[word] += 1\n",
    "            else:\n",
    "                less_than_words[word] = 1\n",
    "    \n",
    "    if \"than\" in parts[1]:\n",
    "        than_perturbations.append(row[\"perturbation\"])\n",
    "        \n",
    "        if \"than\" in helpful_words:\n",
    "            \n",
    "            than_perturbation_recall.append(row[\"perturbation\"])\n",
    "    \n",
    "    "
   ]
  },
  {
   "cell_type": "code",
   "execution_count": 5,
   "metadata": {},
   "outputs": [
    {
     "data": {
      "text/plain": [
       "(219, 50)"
      ]
     },
     "execution_count": 5,
     "metadata": {},
     "output_type": "execute_result"
    }
   ],
   "source": [
    "len(not_perturbations), len(not_pertubation_recall)"
   ]
  },
  {
   "cell_type": "code",
   "execution_count": 6,
   "metadata": {
    "collapsed": true
   },
   "outputs": [],
   "source": [
    "from operator import itemgetter"
   ]
  },
  {
   "cell_type": "code",
   "execution_count": 7,
   "metadata": {},
   "outputs": [
    {
     "data": {
      "text/plain": [
       "(384, 221)"
      ]
     },
     "execution_count": 7,
     "metadata": {},
     "output_type": "execute_result"
    }
   ],
   "source": [
    "len(than_perturbations), len(than_perturbation_recall)"
   ]
  },
  {
   "cell_type": "code",
   "execution_count": 8,
   "metadata": {
    "collapsed": true
   },
   "outputs": [],
   "source": [
    "sort_grt = sorted(greater_than_words.items(), key=itemgetter(1), reverse=True)"
   ]
  },
  {
   "cell_type": "code",
   "execution_count": 9,
   "metadata": {
    "collapsed": true
   },
   "outputs": [],
   "source": [
    "sort_less = sorted(less_than_words.items(), key=itemgetter(1), reverse=True)"
   ]
  },
  {
   "cell_type": "code",
   "execution_count": 10,
   "metadata": {},
   "outputs": [
    {
     "data": {
      "text/plain": [
       "(145, 145)"
      ]
     },
     "execution_count": 10,
     "metadata": {},
     "output_type": "execute_result"
    }
   ],
   "source": [
    "len(sort_grt), len(sort_less)"
   ]
  },
  {
   "cell_type": "code",
   "execution_count": 11,
   "metadata": {
    "collapsed": true
   },
   "outputs": [],
   "source": [
    "# Words in Greater Than Sentences that are different than Less Than\n",
    "# No real difference"
   ]
  },
  {
   "cell_type": "code",
   "execution_count": 12,
   "metadata": {},
   "outputs": [
    {
     "name": "stdout",
     "output_type": "stream",
     "text": [
      "('so', 29, 14)\n",
      "('than', 106, 115)\n",
      "('[MASK]', 105, 115)\n",
      "('##ent', 1, 5)\n",
      "('it', 7, 12)\n",
      "('find', 12, 16)\n",
      "('time', 14, 10)\n",
      "('have', 2, 6)\n",
      "('##ens', 3)\n",
      "('##itive', 2)\n",
      "('##ning', 2)\n",
      "('financially', 6, 3)\n"
     ]
    }
   ],
   "source": [
    "for word in greater_than_words:\n",
    "    if word in less_than_words:\n",
    "        if abs(greater_than_words[word] - less_than_words[word]) > 2:\n",
    "            print((word, greater_than_words[word], less_than_words[word]))\n",
    "    else:\n",
    "        if greater_than_words[word] > 1:\n",
    "            print((word, greater_than_words[word]))"
   ]
  },
  {
   "cell_type": "code",
   "execution_count": 13,
   "metadata": {
    "collapsed": true
   },
   "outputs": [],
   "source": [
    "output = {\n",
    "    \"rank\" : [],\n",
    "    \"greater_than_word\" : [],\n",
    "    \"greater_than_count\" : [],\n",
    "    \"less_than_word\" : [],\n",
    "    \"less_than_count\" : []\n",
    "}"
   ]
  },
  {
   "cell_type": "code",
   "execution_count": 14,
   "metadata": {
    "collapsed": true
   },
   "outputs": [],
   "source": [
    "for i in range(len(sort_grt)):\n",
    "    output[\"rank\"].append(i+1)\n",
    "    output[\"greater_than_word\"].append(sort_grt[i][0])\n",
    "    output[\"greater_than_count\"].append(sort_grt[i][1])\n",
    "    output[\"less_than_word\"].append(sort_less[i][0])\n",
    "    output[\"less_than_count\"].append(sort_less[i][1])"
   ]
  },
  {
   "cell_type": "code",
   "execution_count": 15,
   "metadata": {
    "collapsed": true
   },
   "outputs": [],
   "source": [
    "word_count_table = pd.DataFrame.from_dict(output)"
   ]
  },
  {
   "cell_type": "code",
   "execution_count": 16,
   "metadata": {
    "collapsed": true
   },
   "outputs": [],
   "source": [
    "# saving below table"
   ]
  },
  {
   "cell_type": "code",
   "execution_count": 17,
   "metadata": {
    "collapsed": true
   },
   "outputs": [],
   "source": [
    "word_count_table.to_csv(\"greater_than_vs_less_than_words.csv\", index=False)"
   ]
  },
  {
   "cell_type": "code",
   "execution_count": 18,
   "metadata": {},
   "outputs": [
    {
     "data": {
      "text/html": [
       "<div>\n",
       "<style scoped>\n",
       "    .dataframe tbody tr th:only-of-type {\n",
       "        vertical-align: middle;\n",
       "    }\n",
       "\n",
       "    .dataframe tbody tr th {\n",
       "        vertical-align: top;\n",
       "    }\n",
       "\n",
       "    .dataframe thead th {\n",
       "        text-align: right;\n",
       "    }\n",
       "</style>\n",
       "<table border=\"1\" class=\"dataframe\">\n",
       "  <thead>\n",
       "    <tr style=\"text-align: right;\">\n",
       "      <th></th>\n",
       "      <th>rank</th>\n",
       "      <th>greater_than_word</th>\n",
       "      <th>greater_than_count</th>\n",
       "      <th>less_than_word</th>\n",
       "      <th>less_than_count</th>\n",
       "    </tr>\n",
       "  </thead>\n",
       "  <tbody>\n",
       "    <tr>\n",
       "      <th>0</th>\n",
       "      <td>1</td>\n",
       "      <td>than</td>\n",
       "      <td>106</td>\n",
       "      <td>[MASK]</td>\n",
       "      <td>115</td>\n",
       "    </tr>\n",
       "    <tr>\n",
       "      <th>1</th>\n",
       "      <td>2</td>\n",
       "      <td>[MASK]</td>\n",
       "      <td>105</td>\n",
       "      <td>than</td>\n",
       "      <td>115</td>\n",
       "    </tr>\n",
       "    <tr>\n",
       "      <th>2</th>\n",
       "      <td>3</td>\n",
       "      <td>so</td>\n",
       "      <td>29</td>\n",
       "      <td>not</td>\n",
       "      <td>25</td>\n",
       "    </tr>\n",
       "    <tr>\n",
       "      <th>3</th>\n",
       "      <td>4</td>\n",
       "      <td>not</td>\n",
       "      <td>26</td>\n",
       "      <td>finds</td>\n",
       "      <td>17</td>\n",
       "    </tr>\n",
       "    <tr>\n",
       "      <th>4</th>\n",
       "      <td>5</td>\n",
       "      <td>finds</td>\n",
       "      <td>18</td>\n",
       "      <td>find</td>\n",
       "      <td>16</td>\n",
       "    </tr>\n",
       "  </tbody>\n",
       "</table>\n",
       "</div>"
      ],
      "text/plain": [
       "   rank greater_than_word  greater_than_count less_than_word  less_than_count\n",
       "0     1              than                 106         [MASK]              115\n",
       "1     2            [MASK]                 105           than              115\n",
       "2     3                so                  29            not               25\n",
       "3     4               not                  26          finds               17\n",
       "4     5             finds                  18           find               16"
      ]
     },
     "execution_count": 18,
     "metadata": {},
     "output_type": "execute_result"
    }
   ],
   "source": [
    "word_count_table.head()"
   ]
  },
  {
   "cell_type": "code",
   "execution_count": 19,
   "metadata": {
    "collapsed": true
   },
   "outputs": [],
   "source": [
    "# % of time \"not\" was seen as important when available\n",
    "# Not picked up often, but even when picked up, can't do much with it"
   ]
  },
  {
   "cell_type": "code",
   "execution_count": 20,
   "metadata": {},
   "outputs": [
    {
     "data": {
      "text/plain": [
       "0.228310502283105"
      ]
     },
     "execution_count": 20,
     "metadata": {},
     "output_type": "execute_result"
    }
   ],
   "source": [
    "len(not_pertubation_recall) / len(not_perturbations)"
   ]
  },
  {
   "cell_type": "code",
   "execution_count": 22,
   "metadata": {
    "collapsed": true
   },
   "outputs": [],
   "source": [
    "results = pd.read_csv(\"../data/masked_word_result_data/bert_w_names/bert_social_perf_10.csv\")"
   ]
  },
  {
   "cell_type": "code",
   "execution_count": 23,
   "metadata": {},
   "outputs": [
    {
     "data": {
      "text/html": [
       "<div>\n",
       "<style scoped>\n",
       "    .dataframe tbody tr th:only-of-type {\n",
       "        vertical-align: middle;\n",
       "    }\n",
       "\n",
       "    .dataframe tbody tr th {\n",
       "        vertical-align: top;\n",
       "    }\n",
       "\n",
       "    .dataframe thead th {\n",
       "        text-align: right;\n",
       "    }\n",
       "</style>\n",
       "<table border=\"1\" class=\"dataframe\">\n",
       "  <thead>\n",
       "    <tr style=\"text-align: right;\">\n",
       "      <th></th>\n",
       "      <th>truism_number</th>\n",
       "      <th>perturbation</th>\n",
       "      <th>premise</th>\n",
       "      <th>avg_binary_score</th>\n",
       "      <th>avg_ratio_score</th>\n",
       "    </tr>\n",
       "  </thead>\n",
       "  <tbody>\n",
       "    <tr>\n",
       "      <th>0</th>\n",
       "      <td>0</td>\n",
       "      <td>original</td>\n",
       "      <td>original</td>\n",
       "      <td>1.0</td>\n",
       "      <td>0.442610</td>\n",
       "    </tr>\n",
       "    <tr>\n",
       "      <th>1</th>\n",
       "      <td>0</td>\n",
       "      <td>original</td>\n",
       "      <td>asymmetric_premise</td>\n",
       "      <td>0.0</td>\n",
       "      <td>-0.451378</td>\n",
       "    </tr>\n",
       "    <tr>\n",
       "      <th>2</th>\n",
       "      <td>0</td>\n",
       "      <td>original</td>\n",
       "      <td>asymmetric_conclusion</td>\n",
       "      <td>0.0</td>\n",
       "      <td>-0.547835</td>\n",
       "    </tr>\n",
       "    <tr>\n",
       "      <th>3</th>\n",
       "      <td>0</td>\n",
       "      <td>negation</td>\n",
       "      <td>original</td>\n",
       "      <td>0.0</td>\n",
       "      <td>-0.868957</td>\n",
       "    </tr>\n",
       "    <tr>\n",
       "      <th>4</th>\n",
       "      <td>0</td>\n",
       "      <td>negation</td>\n",
       "      <td>asymmetric_premise</td>\n",
       "      <td>1.0</td>\n",
       "      <td>0.884501</td>\n",
       "    </tr>\n",
       "    <tr>\n",
       "      <th>5</th>\n",
       "      <td>0</td>\n",
       "      <td>negation</td>\n",
       "      <td>asymmetric_conclusion</td>\n",
       "      <td>1.0</td>\n",
       "      <td>0.871861</td>\n",
       "    </tr>\n",
       "    <tr>\n",
       "      <th>6</th>\n",
       "      <td>0</td>\n",
       "      <td>antonym</td>\n",
       "      <td>original</td>\n",
       "      <td>0.0</td>\n",
       "      <td>-0.539110</td>\n",
       "    </tr>\n",
       "    <tr>\n",
       "      <th>7</th>\n",
       "      <td>0</td>\n",
       "      <td>antonym</td>\n",
       "      <td>asymmetric_premise</td>\n",
       "      <td>1.0</td>\n",
       "      <td>0.448152</td>\n",
       "    </tr>\n",
       "    <tr>\n",
       "      <th>8</th>\n",
       "      <td>0</td>\n",
       "      <td>antonym</td>\n",
       "      <td>asymmetric_conclusion</td>\n",
       "      <td>1.0</td>\n",
       "      <td>0.558313</td>\n",
       "    </tr>\n",
       "    <tr>\n",
       "      <th>9</th>\n",
       "      <td>0</td>\n",
       "      <td>paraphrase</td>\n",
       "      <td>original</td>\n",
       "      <td>1.0</td>\n",
       "      <td>0.979476</td>\n",
       "    </tr>\n",
       "    <tr>\n",
       "      <th>10</th>\n",
       "      <td>0</td>\n",
       "      <td>paraphrase</td>\n",
       "      <td>asymmetric_premise</td>\n",
       "      <td>0.0</td>\n",
       "      <td>-0.972241</td>\n",
       "    </tr>\n",
       "    <tr>\n",
       "      <th>11</th>\n",
       "      <td>0</td>\n",
       "      <td>paraphrase</td>\n",
       "      <td>asymmetric_conclusion</td>\n",
       "      <td>0.0</td>\n",
       "      <td>-0.983102</td>\n",
       "    </tr>\n",
       "    <tr>\n",
       "      <th>12</th>\n",
       "      <td>0</td>\n",
       "      <td>paraphrase_inversion</td>\n",
       "      <td>original</td>\n",
       "      <td>0.0</td>\n",
       "      <td>-0.816479</td>\n",
       "    </tr>\n",
       "    <tr>\n",
       "      <th>13</th>\n",
       "      <td>0</td>\n",
       "      <td>paraphrase_inversion</td>\n",
       "      <td>asymmetric_premise</td>\n",
       "      <td>1.0</td>\n",
       "      <td>0.812959</td>\n",
       "    </tr>\n",
       "    <tr>\n",
       "      <th>14</th>\n",
       "      <td>0</td>\n",
       "      <td>paraphrase_inversion</td>\n",
       "      <td>asymmetric_conclusion</td>\n",
       "      <td>1.0</td>\n",
       "      <td>0.815103</td>\n",
       "    </tr>\n",
       "    <tr>\n",
       "      <th>15</th>\n",
       "      <td>0</td>\n",
       "      <td>negation_antonym</td>\n",
       "      <td>original</td>\n",
       "      <td>1.0</td>\n",
       "      <td>0.843367</td>\n",
       "    </tr>\n",
       "    <tr>\n",
       "      <th>16</th>\n",
       "      <td>0</td>\n",
       "      <td>negation_antonym</td>\n",
       "      <td>asymmetric_premise</td>\n",
       "      <td>0.0</td>\n",
       "      <td>-0.847178</td>\n",
       "    </tr>\n",
       "    <tr>\n",
       "      <th>17</th>\n",
       "      <td>0</td>\n",
       "      <td>negation_antonym</td>\n",
       "      <td>asymmetric_conclusion</td>\n",
       "      <td>0.0</td>\n",
       "      <td>-0.832539</td>\n",
       "    </tr>\n",
       "    <tr>\n",
       "      <th>18</th>\n",
       "      <td>0</td>\n",
       "      <td>negation_paraphrase</td>\n",
       "      <td>original</td>\n",
       "      <td>0.0</td>\n",
       "      <td>-0.987908</td>\n",
       "    </tr>\n",
       "    <tr>\n",
       "      <th>19</th>\n",
       "      <td>0</td>\n",
       "      <td>negation_paraphrase</td>\n",
       "      <td>asymmetric_premise</td>\n",
       "      <td>1.0</td>\n",
       "      <td>0.985019</td>\n",
       "    </tr>\n",
       "    <tr>\n",
       "      <th>20</th>\n",
       "      <td>0</td>\n",
       "      <td>negation_paraphrase</td>\n",
       "      <td>asymmetric_conclusion</td>\n",
       "      <td>1.0</td>\n",
       "      <td>0.990186</td>\n",
       "    </tr>\n",
       "    <tr>\n",
       "      <th>21</th>\n",
       "      <td>0</td>\n",
       "      <td>negation_paraphrase_inversion</td>\n",
       "      <td>original</td>\n",
       "      <td>1.0</td>\n",
       "      <td>0.959664</td>\n",
       "    </tr>\n",
       "    <tr>\n",
       "      <th>22</th>\n",
       "      <td>0</td>\n",
       "      <td>negation_paraphrase_inversion</td>\n",
       "      <td>asymmetric_premise</td>\n",
       "      <td>0.0</td>\n",
       "      <td>-0.953772</td>\n",
       "    </tr>\n",
       "    <tr>\n",
       "      <th>23</th>\n",
       "      <td>0</td>\n",
       "      <td>negation_paraphrase_inversion</td>\n",
       "      <td>asymmetric_conclusion</td>\n",
       "      <td>0.0</td>\n",
       "      <td>-0.958083</td>\n",
       "    </tr>\n",
       "  </tbody>\n",
       "</table>\n",
       "</div>"
      ],
      "text/plain": [
       "    truism_number                   perturbation                premise  \\\n",
       "0               0                       original               original   \n",
       "1               0                       original     asymmetric_premise   \n",
       "2               0                       original  asymmetric_conclusion   \n",
       "3               0                       negation               original   \n",
       "4               0                       negation     asymmetric_premise   \n",
       "5               0                       negation  asymmetric_conclusion   \n",
       "6               0                        antonym               original   \n",
       "7               0                        antonym     asymmetric_premise   \n",
       "8               0                        antonym  asymmetric_conclusion   \n",
       "9               0                     paraphrase               original   \n",
       "10              0                     paraphrase     asymmetric_premise   \n",
       "11              0                     paraphrase  asymmetric_conclusion   \n",
       "12              0           paraphrase_inversion               original   \n",
       "13              0           paraphrase_inversion     asymmetric_premise   \n",
       "14              0           paraphrase_inversion  asymmetric_conclusion   \n",
       "15              0               negation_antonym               original   \n",
       "16              0               negation_antonym     asymmetric_premise   \n",
       "17              0               negation_antonym  asymmetric_conclusion   \n",
       "18              0            negation_paraphrase               original   \n",
       "19              0            negation_paraphrase     asymmetric_premise   \n",
       "20              0            negation_paraphrase  asymmetric_conclusion   \n",
       "21              0  negation_paraphrase_inversion               original   \n",
       "22              0  negation_paraphrase_inversion     asymmetric_premise   \n",
       "23              0  negation_paraphrase_inversion  asymmetric_conclusion   \n",
       "\n",
       "    avg_binary_score  avg_ratio_score  \n",
       "0                1.0         0.442610  \n",
       "1                0.0        -0.451378  \n",
       "2                0.0        -0.547835  \n",
       "3                0.0        -0.868957  \n",
       "4                1.0         0.884501  \n",
       "5                1.0         0.871861  \n",
       "6                0.0        -0.539110  \n",
       "7                1.0         0.448152  \n",
       "8                1.0         0.558313  \n",
       "9                1.0         0.979476  \n",
       "10               0.0        -0.972241  \n",
       "11               0.0        -0.983102  \n",
       "12               0.0        -0.816479  \n",
       "13               1.0         0.812959  \n",
       "14               1.0         0.815103  \n",
       "15               1.0         0.843367  \n",
       "16               0.0        -0.847178  \n",
       "17               0.0        -0.832539  \n",
       "18               0.0        -0.987908  \n",
       "19               1.0         0.985019  \n",
       "20               1.0         0.990186  \n",
       "21               1.0         0.959664  \n",
       "22               0.0        -0.953772  \n",
       "23               0.0        -0.958083  "
      ]
     },
     "execution_count": 23,
     "metadata": {},
     "output_type": "execute_result"
    }
   ],
   "source": [
    "results.head(24)"
   ]
  },
  {
   "cell_type": "code",
   "execution_count": 24,
   "metadata": {
    "collapsed": true
   },
   "outputs": [],
   "source": [
    "not_recall_scores = []\n",
    "not_miss_scores = []\n",
    "\n",
    "for key in not_perturbations:\n",
    "    parts = key.split(\"-\")\n",
    "    score = float(results[(results[\"truism_number\"] == int(parts[0])) &\\\n",
    "                    (results[\"perturbation\"] == parts[1]) &\\\n",
    "                    (results[\"premise\"] == parts[2])][\"avg_binary_score\"])\n",
    "    if key in not_pertubation_recall:\n",
    "        not_recall_scores.append(score)\n",
    "    else:\n",
    "        not_miss_scores.append(score)\n",
    "    "
   ]
  },
  {
   "cell_type": "code",
   "execution_count": 25,
   "metadata": {
    "collapsed": true
   },
   "outputs": [],
   "source": [
    "from scipy.stats import ttest_ind"
   ]
  },
  {
   "cell_type": "code",
   "execution_count": 26,
   "metadata": {},
   "outputs": [
    {
     "data": {
      "text/plain": [
       "Ttest_indResult(statistic=-0.2107827626646457, pvalue=0.8332545900775856)"
      ]
     },
     "execution_count": 26,
     "metadata": {},
     "output_type": "execute_result"
    }
   ],
   "source": [
    "ttest_ind(not_recall_scores, not_miss_scores)"
   ]
  },
  {
   "cell_type": "code",
   "execution_count": 27,
   "metadata": {},
   "outputs": [
    {
     "data": {
      "text/plain": [
       "0.48"
      ]
     },
     "execution_count": 27,
     "metadata": {},
     "output_type": "execute_result"
    }
   ],
   "source": [
    "sum(not_recall_scores) / len(not_recall_scores)"
   ]
  },
  {
   "cell_type": "code",
   "execution_count": 28,
   "metadata": {},
   "outputs": [
    {
     "data": {
      "text/plain": [
       "0.4970414201183432"
      ]
     },
     "execution_count": 28,
     "metadata": {},
     "output_type": "execute_result"
    }
   ],
   "source": [
    "sum(not_miss_scores) / len(not_miss_scores)"
   ]
  },
  {
   "cell_type": "code",
   "execution_count": null,
   "metadata": {
    "collapsed": true
   },
   "outputs": [],
   "source": []
  },
  {
   "cell_type": "code",
   "execution_count": 34,
   "metadata": {},
   "outputs": [
    {
     "data": {
      "text/plain": [
       "0.5755208333333334"
      ]
     },
     "execution_count": 34,
     "metadata": {},
     "output_type": "execute_result"
    }
   ],
   "source": [
    "# % of time \"than\" was seen as important when available\n",
    "len(than_perturbation_recall) / len(than_perturbations)"
   ]
  },
  {
   "cell_type": "code",
   "execution_count": 35,
   "metadata": {
    "collapsed": true
   },
   "outputs": [],
   "source": [
    "than_recall_scores = []\n",
    "than_miss_scores = []\n",
    "\n",
    "for key in than_perturbations:\n",
    "    parts = key.split(\"-\")\n",
    "    score = float(results[(results[\"truism_number\"] == int(parts[0])) &\\\n",
    "                    (results[\"perturbation\"] == parts[1]) &\\\n",
    "                    (results[\"premise\"] == parts[2])][\"avg_binary_score\"])\n",
    "    if key in than_perturbation_recall:\n",
    "        than_recall_scores.append(score)\n",
    "    else:\n",
    "        than_miss_scores.append(score)\n",
    "    "
   ]
  },
  {
   "cell_type": "code",
   "execution_count": 36,
   "metadata": {},
   "outputs": [
    {
     "data": {
      "text/plain": [
       "Ttest_indResult(statistic=-0.856555227469993, pvalue=0.3922277352453396)"
      ]
     },
     "execution_count": 36,
     "metadata": {},
     "output_type": "execute_result"
    }
   ],
   "source": [
    "ttest_ind(than_recall_scores, than_miss_scores)"
   ]
  },
  {
   "cell_type": "code",
   "execution_count": 37,
   "metadata": {},
   "outputs": [
    {
     "data": {
      "text/plain": [
       "0.48235294117647054"
      ]
     },
     "execution_count": 37,
     "metadata": {},
     "output_type": "execute_result"
    }
   ],
   "source": [
    "sum(than_recall_scores) / len(than_recall_scores)"
   ]
  },
  {
   "cell_type": "code",
   "execution_count": 38,
   "metadata": {},
   "outputs": [
    {
     "data": {
      "text/plain": [
       "0.5263803680981596"
      ]
     },
     "execution_count": 38,
     "metadata": {},
     "output_type": "execute_result"
    }
   ],
   "source": [
    "sum(than_miss_scores) / len(than_miss_scores)"
   ]
  },
  {
   "cell_type": "code",
   "execution_count": null,
   "metadata": {
    "collapsed": true
   },
   "outputs": [],
   "source": []
  }
 ],
 "metadata": {
  "kernelspec": {
   "display_name": "Python 3",
   "language": "python",
   "name": "python3"
  },
  "language_info": {
   "codemirror_mode": {
    "name": "ipython",
    "version": 3
   },
   "file_extension": ".py",
   "mimetype": "text/x-python",
   "name": "python",
   "nbconvert_exporter": "python",
   "pygments_lexer": "ipython3",
   "version": "3.6.9"
  }
 },
 "nbformat": 4,
 "nbformat_minor": 4
}
