{
 "cells": [
  {
   "cell_type": "code",
   "execution_count": 1,
   "metadata": {},
   "outputs": [],
   "source": [
    "import pandas as pd"
   ]
  },
  {
   "cell_type": "code",
   "execution_count": 2,
   "metadata": {},
   "outputs": [],
   "source": [
    "data = pd.read_csv(\"helpful_words_for_social_w_names_top_5.csv\")"
   ]
  },
  {
   "cell_type": "code",
   "execution_count": 3,
   "metadata": {},
   "outputs": [
    {
     "data": {
      "text/html": [
       "<div>\n",
       "<style scoped>\n",
       "    .dataframe tbody tr th:only-of-type {\n",
       "        vertical-align: middle;\n",
       "    }\n",
       "\n",
       "    .dataframe tbody tr th {\n",
       "        vertical-align: top;\n",
       "    }\n",
       "\n",
       "    .dataframe thead th {\n",
       "        text-align: right;\n",
       "    }\n",
       "</style>\n",
       "<table border=\"1\" class=\"dataframe\">\n",
       "  <thead>\n",
       "    <tr style=\"text-align: right;\">\n",
       "      <th></th>\n",
       "      <th>perturbation</th>\n",
       "      <th>sentence</th>\n",
       "      <th>helpful_words</th>\n",
       "    </tr>\n",
       "  </thead>\n",
       "  <tbody>\n",
       "    <tr>\n",
       "      <th>0</th>\n",
       "      <td>0-original-original</td>\n",
       "      <td>A makes the varsity team while B does not, so ...</td>\n",
       "      <td>['so', 'skilled', 'than']</td>\n",
       "    </tr>\n",
       "    <tr>\n",
       "      <th>1</th>\n",
       "      <td>0-original-asymmetric_premise</td>\n",
       "      <td>B makes the varsity team while A does not, so ...</td>\n",
       "      <td>['skilled', '[MASK]', 'than']</td>\n",
       "    </tr>\n",
       "    <tr>\n",
       "      <th>2</th>\n",
       "      <td>0-original-asymmetric_conclusion</td>\n",
       "      <td>A makes the varsity team while B does not, so ...</td>\n",
       "      <td>['skilled', 'than']</td>\n",
       "    </tr>\n",
       "    <tr>\n",
       "      <th>3</th>\n",
       "      <td>0-negation-original</td>\n",
       "      <td>A makes the varsity team while B does not, so ...</td>\n",
       "      <td>['than', 't', 'so']</td>\n",
       "    </tr>\n",
       "    <tr>\n",
       "      <th>4</th>\n",
       "      <td>0-negation-asymmetric_premise</td>\n",
       "      <td>B makes the varsity team while A does not, so ...</td>\n",
       "      <td>['skilled', '[MASK]', 'than']</td>\n",
       "    </tr>\n",
       "  </tbody>\n",
       "</table>\n",
       "</div>"
      ],
      "text/plain": [
       "                       perturbation  \\\n",
       "0               0-original-original   \n",
       "1     0-original-asymmetric_premise   \n",
       "2  0-original-asymmetric_conclusion   \n",
       "3               0-negation-original   \n",
       "4     0-negation-asymmetric_premise   \n",
       "\n",
       "                                            sentence  \\\n",
       "0  A makes the varsity team while B does not, so ...   \n",
       "1  B makes the varsity team while A does not, so ...   \n",
       "2  A makes the varsity team while B does not, so ...   \n",
       "3  A makes the varsity team while B does not, so ...   \n",
       "4  B makes the varsity team while A does not, so ...   \n",
       "\n",
       "                   helpful_words  \n",
       "0      ['so', 'skilled', 'than']  \n",
       "1  ['skilled', '[MASK]', 'than']  \n",
       "2            ['skilled', 'than']  \n",
       "3            ['than', 't', 'so']  \n",
       "4  ['skilled', '[MASK]', 'than']  "
      ]
     },
     "execution_count": 3,
     "metadata": {},
     "output_type": "execute_result"
    }
   ],
   "source": [
    "data.head()"
   ]
  },
  {
   "cell_type": "code",
   "execution_count": 42,
   "metadata": {},
   "outputs": [],
   "source": [
    "not_perturbations = []\n",
    "not_pertubation_recall = []\n",
    "\n",
    "greater_than_words = {}\n",
    "less_than_words = {}\n",
    "\n",
    "than_perturbations = []\n",
    "than_perturbation_recall = []\n",
    "for i, row in data.iterrows():\n",
    "    sent = row[\"sentence\"]\n",
    "    helpful_words = eval(row[\"helpful_words\"])\n",
    "    parts = sent.split(\",\")\n",
    "    \n",
    "    if \"not\" in parts[1]:\n",
    "        not_perturbations.append(row[\"perturbation\"])\n",
    "        \n",
    "        if \"not\" in helpful_words or \"t\" in helpful_words or \"isn\" in helpful_words or \"''\" in helpful_words:\n",
    "            \n",
    "            not_pertubation_recall.append(row[\"perturbation\"])\n",
    "        \n",
    "    \n",
    "    if \"easier\" in parts[1] or \"more\" in parts[1] or \"better\" in parts[1]:\n",
    "        for word in helpful_words:\n",
    "            if word in greater_than_words:\n",
    "                greater_than_words[word] += 1\n",
    "            else:\n",
    "                greater_than_words[word] = 1\n",
    "    else:\n",
    "        for word in helpful_words:\n",
    "            if word in less_than_words:\n",
    "                less_than_words[word] += 1\n",
    "            else:\n",
    "                less_than_words[word] = 1\n",
    "    \n",
    "    if \"than\" in parts[1]:\n",
    "        than_perturbations.append(row[\"perturbation\"])\n",
    "        \n",
    "        if \"than\" in helpful_words:\n",
    "            \n",
    "            than_perturbation_recall.append(row[\"perturbation\"])\n",
    "    \n",
    "    "
   ]
  },
  {
   "cell_type": "code",
   "execution_count": 43,
   "metadata": {},
   "outputs": [
    {
     "data": {
      "text/plain": [
       "(219, 50)"
      ]
     },
     "execution_count": 43,
     "metadata": {},
     "output_type": "execute_result"
    }
   ],
   "source": [
    "len(not_perturbations), len(not_pertubation_recall)"
   ]
  },
  {
   "cell_type": "code",
   "execution_count": 44,
   "metadata": {},
   "outputs": [],
   "source": [
    "from operator import itemgetter"
   ]
  },
  {
   "cell_type": "code",
   "execution_count": 45,
   "metadata": {},
   "outputs": [
    {
     "data": {
      "text/plain": [
       "(384, 221)"
      ]
     },
     "execution_count": 45,
     "metadata": {},
     "output_type": "execute_result"
    }
   ],
   "source": [
    "len(than_perturbations), len(than_perturbation_recall)"
   ]
  },
  {
   "cell_type": "code",
   "execution_count": 27,
   "metadata": {},
   "outputs": [],
   "source": [
    "sort_grt = sorted(greater_than_words.items(), key=itemgetter(1), reverse=True)"
   ]
  },
  {
   "cell_type": "code",
   "execution_count": 28,
   "metadata": {},
   "outputs": [],
   "source": [
    "sort_less = sorted(less_than_words.items(), key=itemgetter(1), reverse=True)"
   ]
  },
  {
   "cell_type": "code",
   "execution_count": 29,
   "metadata": {},
   "outputs": [
    {
     "data": {
      "text/plain": [
       "(145, 145)"
      ]
     },
     "execution_count": 29,
     "metadata": {},
     "output_type": "execute_result"
    }
   ],
   "source": [
    "len(sort_grt), len(sort_less)"
   ]
  },
  {
   "cell_type": "code",
   "execution_count": 23,
   "metadata": {},
   "outputs": [],
   "source": [
    "# Words in Greater Than Sentences that are different than Less Than\n",
    "# No real difference"
   ]
  },
  {
   "cell_type": "code",
   "execution_count": 22,
   "metadata": {},
   "outputs": [
    {
     "name": "stdout",
     "output_type": "stream",
     "text": [
      "('so', 29, 14)\n",
      "('than', 106, 115)\n",
      "('[MASK]', 105, 115)\n",
      "('##ent', 1, 5)\n",
      "('it', 7, 12)\n",
      "('find', 12, 16)\n",
      "('time', 14, 10)\n",
      "('have', 2, 6)\n",
      "('##ens', 3)\n",
      "('##itive', 2)\n",
      "('##ning', 2)\n",
      "('financially', 6, 3)\n"
     ]
    }
   ],
   "source": [
    "for word in greater_than_words:\n",
    "    if word in less_than_words:\n",
    "        if abs(greater_than_words[word] - less_than_words[word]) > 2:\n",
    "            print((word, greater_than_words[word], less_than_words[word]))\n",
    "    else:\n",
    "        if greater_than_words[word] > 1:\n",
    "            print((word, greater_than_words[word]))"
   ]
  },
  {
   "cell_type": "code",
   "execution_count": 30,
   "metadata": {},
   "outputs": [],
   "source": [
    "output = {\n",
    "    \"rank\" : [],\n",
    "    \"greater_than_word\" : [],\n",
    "    \"greater_than_count\" : [],\n",
    "    \"less_than_word\" : [],\n",
    "    \"less_than_count\" : []\n",
    "}"
   ]
  },
  {
   "cell_type": "code",
   "execution_count": 32,
   "metadata": {},
   "outputs": [],
   "source": [
    "for i in range(len(sort_grt)):\n",
    "    output[\"rank\"].append(i+1)\n",
    "    output[\"greater_than_word\"].append(sort_grt[i][0])\n",
    "    output[\"greater_than_count\"].append(sort_grt[i][1])\n",
    "    output[\"less_than_word\"].append(sort_less[i][0])\n",
    "    output[\"less_than_count\"].append(sort_less[i][1])"
   ]
  },
  {
   "cell_type": "code",
   "execution_count": 34,
   "metadata": {},
   "outputs": [],
   "source": [
    "word_count_table = pd.DataFrame.from_dict(output)"
   ]
  },
  {
   "cell_type": "code",
   "execution_count": 47,
   "metadata": {},
   "outputs": [],
   "source": [
    "# saving below table"
   ]
  },
  {
   "cell_type": "code",
   "execution_count": 35,
   "metadata": {},
   "outputs": [],
   "source": [
    "word_count_table.to_csv(\"greater_than_vs_less_than_words.csv\", index=False)"
   ]
  },
  {
   "cell_type": "code",
   "execution_count": 36,
   "metadata": {},
   "outputs": [
    {
     "data": {
      "text/html": [
       "<div>\n",
       "<style scoped>\n",
       "    .dataframe tbody tr th:only-of-type {\n",
       "        vertical-align: middle;\n",
       "    }\n",
       "\n",
       "    .dataframe tbody tr th {\n",
       "        vertical-align: top;\n",
       "    }\n",
       "\n",
       "    .dataframe thead th {\n",
       "        text-align: right;\n",
       "    }\n",
       "</style>\n",
       "<table border=\"1\" class=\"dataframe\">\n",
       "  <thead>\n",
       "    <tr style=\"text-align: right;\">\n",
       "      <th></th>\n",
       "      <th>rank</th>\n",
       "      <th>greater_than_word</th>\n",
       "      <th>greater_than_count</th>\n",
       "      <th>less_than_word</th>\n",
       "      <th>less_than_count</th>\n",
       "    </tr>\n",
       "  </thead>\n",
       "  <tbody>\n",
       "    <tr>\n",
       "      <th>0</th>\n",
       "      <td>1</td>\n",
       "      <td>than</td>\n",
       "      <td>106</td>\n",
       "      <td>[MASK]</td>\n",
       "      <td>115</td>\n",
       "    </tr>\n",
       "    <tr>\n",
       "      <th>1</th>\n",
       "      <td>2</td>\n",
       "      <td>[MASK]</td>\n",
       "      <td>105</td>\n",
       "      <td>than</td>\n",
       "      <td>115</td>\n",
       "    </tr>\n",
       "    <tr>\n",
       "      <th>2</th>\n",
       "      <td>3</td>\n",
       "      <td>so</td>\n",
       "      <td>29</td>\n",
       "      <td>not</td>\n",
       "      <td>25</td>\n",
       "    </tr>\n",
       "    <tr>\n",
       "      <th>3</th>\n",
       "      <td>4</td>\n",
       "      <td>not</td>\n",
       "      <td>26</td>\n",
       "      <td>finds</td>\n",
       "      <td>17</td>\n",
       "    </tr>\n",
       "    <tr>\n",
       "      <th>4</th>\n",
       "      <td>5</td>\n",
       "      <td>finds</td>\n",
       "      <td>18</td>\n",
       "      <td>find</td>\n",
       "      <td>16</td>\n",
       "    </tr>\n",
       "  </tbody>\n",
       "</table>\n",
       "</div>"
      ],
      "text/plain": [
       "   rank greater_than_word  greater_than_count less_than_word  less_than_count\n",
       "0     1              than                 106         [MASK]              115\n",
       "1     2            [MASK]                 105           than              115\n",
       "2     3                so                  29            not               25\n",
       "3     4               not                  26          finds               17\n",
       "4     5             finds                  18           find               16"
      ]
     },
     "execution_count": 36,
     "metadata": {},
     "output_type": "execute_result"
    }
   ],
   "source": [
    "word_count_table.head()"
   ]
  },
  {
   "cell_type": "code",
   "execution_count": 37,
   "metadata": {},
   "outputs": [],
   "source": [
    "# Not Percentage - % of times not was seen as important"
   ]
  },
  {
   "cell_type": "code",
   "execution_count": 46,
   "metadata": {},
   "outputs": [
    {
     "data": {
      "text/plain": [
       "0.228310502283105"
      ]
     },
     "execution_count": 46,
     "metadata": {},
     "output_type": "execute_result"
    }
   ],
   "source": [
    "len(not_pertubation_recall) / len(not_perturbations)"
   ]
  },
  {
   "cell_type": "code",
   "execution_count": 53,
   "metadata": {},
   "outputs": [],
   "source": [
    "results = pd.read_csv(\"../data/masked_word_result_data/albert/albert_material_perf_2_10.csv\")"
   ]
  },
  {
   "cell_type": "code",
   "execution_count": 54,
   "metadata": {},
   "outputs": [
    {
     "data": {
      "text/html": [
       "<div>\n",
       "<style scoped>\n",
       "    .dataframe tbody tr th:only-of-type {\n",
       "        vertical-align: middle;\n",
       "    }\n",
       "\n",
       "    .dataframe tbody tr th {\n",
       "        vertical-align: top;\n",
       "    }\n",
       "\n",
       "    .dataframe thead th {\n",
       "        text-align: right;\n",
       "    }\n",
       "</style>\n",
       "<table border=\"1\" class=\"dataframe\">\n",
       "  <thead>\n",
       "    <tr style=\"text-align: right;\">\n",
       "      <th></th>\n",
       "      <th>truism_number</th>\n",
       "      <th>perturbation</th>\n",
       "      <th>premise</th>\n",
       "      <th>avg_binary_score</th>\n",
       "      <th>avg_ratio_score</th>\n",
       "    </tr>\n",
       "  </thead>\n",
       "  <tbody>\n",
       "    <tr>\n",
       "      <th>0</th>\n",
       "      <td>0</td>\n",
       "      <td>original</td>\n",
       "      <td>original</td>\n",
       "      <td>1.0</td>\n",
       "      <td>0.369353</td>\n",
       "    </tr>\n",
       "    <tr>\n",
       "      <th>1</th>\n",
       "      <td>0</td>\n",
       "      <td>original</td>\n",
       "      <td>asymmetric_premise</td>\n",
       "      <td>0.5</td>\n",
       "      <td>-0.023440</td>\n",
       "    </tr>\n",
       "    <tr>\n",
       "      <th>2</th>\n",
       "      <td>0</td>\n",
       "      <td>original</td>\n",
       "      <td>asymmetric_conclusion</td>\n",
       "      <td>0.5</td>\n",
       "      <td>-0.015544</td>\n",
       "    </tr>\n",
       "    <tr>\n",
       "      <th>3</th>\n",
       "      <td>0</td>\n",
       "      <td>negation</td>\n",
       "      <td>original</td>\n",
       "      <td>0.0</td>\n",
       "      <td>-0.407543</td>\n",
       "    </tr>\n",
       "    <tr>\n",
       "      <th>4</th>\n",
       "      <td>0</td>\n",
       "      <td>negation</td>\n",
       "      <td>asymmetric_premise</td>\n",
       "      <td>1.0</td>\n",
       "      <td>0.346629</td>\n",
       "    </tr>\n",
       "    <tr>\n",
       "      <th>...</th>\n",
       "      <td>...</td>\n",
       "      <td>...</td>\n",
       "      <td>...</td>\n",
       "      <td>...</td>\n",
       "      <td>...</td>\n",
       "    </tr>\n",
       "    <tr>\n",
       "      <th>475</th>\n",
       "      <td>19</td>\n",
       "      <td>negation_paraphrase</td>\n",
       "      <td>asymmetric_premise</td>\n",
       "      <td>1.0</td>\n",
       "      <td>0.999500</td>\n",
       "    </tr>\n",
       "    <tr>\n",
       "      <th>476</th>\n",
       "      <td>19</td>\n",
       "      <td>negation_paraphrase</td>\n",
       "      <td>asymmetric_conclusion</td>\n",
       "      <td>1.0</td>\n",
       "      <td>0.999643</td>\n",
       "    </tr>\n",
       "    <tr>\n",
       "      <th>477</th>\n",
       "      <td>19</td>\n",
       "      <td>negation_paraphrase_inversion</td>\n",
       "      <td>original</td>\n",
       "      <td>0.0</td>\n",
       "      <td>-0.931187</td>\n",
       "    </tr>\n",
       "    <tr>\n",
       "      <th>478</th>\n",
       "      <td>19</td>\n",
       "      <td>negation_paraphrase_inversion</td>\n",
       "      <td>asymmetric_premise</td>\n",
       "      <td>1.0</td>\n",
       "      <td>0.868203</td>\n",
       "    </tr>\n",
       "    <tr>\n",
       "      <th>479</th>\n",
       "      <td>19</td>\n",
       "      <td>negation_paraphrase_inversion</td>\n",
       "      <td>asymmetric_conclusion</td>\n",
       "      <td>1.0</td>\n",
       "      <td>0.851430</td>\n",
       "    </tr>\n",
       "  </tbody>\n",
       "</table>\n",
       "<p>480 rows × 5 columns</p>\n",
       "</div>"
      ],
      "text/plain": [
       "     truism_number                   perturbation                premise  \\\n",
       "0                0                       original               original   \n",
       "1                0                       original     asymmetric_premise   \n",
       "2                0                       original  asymmetric_conclusion   \n",
       "3                0                       negation               original   \n",
       "4                0                       negation     asymmetric_premise   \n",
       "..             ...                            ...                    ...   \n",
       "475             19            negation_paraphrase     asymmetric_premise   \n",
       "476             19            negation_paraphrase  asymmetric_conclusion   \n",
       "477             19  negation_paraphrase_inversion               original   \n",
       "478             19  negation_paraphrase_inversion     asymmetric_premise   \n",
       "479             19  negation_paraphrase_inversion  asymmetric_conclusion   \n",
       "\n",
       "     avg_binary_score  avg_ratio_score  \n",
       "0                 1.0         0.369353  \n",
       "1                 0.5        -0.023440  \n",
       "2                 0.5        -0.015544  \n",
       "3                 0.0        -0.407543  \n",
       "4                 1.0         0.346629  \n",
       "..                ...              ...  \n",
       "475               1.0         0.999500  \n",
       "476               1.0         0.999643  \n",
       "477               0.0        -0.931187  \n",
       "478               1.0         0.868203  \n",
       "479               1.0         0.851430  \n",
       "\n",
       "[480 rows x 5 columns]"
      ]
     },
     "execution_count": 54,
     "metadata": {},
     "output_type": "execute_result"
    }
   ],
   "source": [
    "results"
   ]
  },
  {
   "cell_type": "code",
   "execution_count": null,
   "metadata": {},
   "outputs": [],
   "source": []
  }
 ],
 "metadata": {
  "kernelspec": {
   "display_name": "Python 3",
   "language": "python",
   "name": "python3"
  },
  "language_info": {
   "codemirror_mode": {
    "name": "ipython",
    "version": 3
   },
   "file_extension": ".py",
   "mimetype": "text/x-python",
   "name": "python",
   "nbconvert_exporter": "python",
   "pygments_lexer": "ipython3",
   "version": "3.6.5"
  }
 },
 "nbformat": 4,
 "nbformat_minor": 4
}
