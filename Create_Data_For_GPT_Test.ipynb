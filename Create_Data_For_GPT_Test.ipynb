{
 "cells": [
  {
   "cell_type": "code",
   "execution_count": 2,
   "metadata": {},
   "outputs": [],
   "source": [
    "import json"
   ]
  },
  {
   "cell_type": "code",
   "execution_count": 3,
   "metadata": {},
   "outputs": [],
   "source": [
    "def create_needed_sentences_for_generation_eval(sentences, config):\n",
    "    eval_sentences = {}\n",
    "    for truism in sentences:\n",
    "        for perturbation in sentences[truism]:\n",
    "\n",
    "            if 'paraphrase' not in perturbation:\n",
    "                    candidate_answers = config[truism]['premise_switch']['0']\n",
    "            elif '_inversion' not in perturbation:\n",
    "                candidate_answers = config[truism]['premise_switch']['1']\n",
    "            else:\n",
    "                candidate_answers = config[truism]['premise_switch']['2']\n",
    "\n",
    "            for premise in sentences[truism][perturbation]:\n",
    "                correct_sentence = sentences[truism][perturbation][premise]\n",
    "\n",
    "                parts = correct_sentence.split(\",\")\n",
    "                switch_portion = parts[len(parts)-1]\n",
    "\n",
    "                right_answer = candidate_answers[0]\n",
    "                wrong_answer = candidate_answers[1]\n",
    "\n",
    "                switch_portion = switch_portion.replace(\" \" + right_answer + \" \", \" \" + wrong_answer + \" \")\n",
    "\n",
    "                incorrect_sentence = \"\"\n",
    "                for i in range(len(parts)-1):\n",
    "                    incorrect_sentence += parts[i]\n",
    "                    incorrect_sentence += \",\"\n",
    "\n",
    "                incorrect_sentence += switch_portion\n",
    "\n",
    "                key = \"-\".join([truism, perturbation, premise])\n",
    "                eval_sentences[key] = {}\n",
    "                eval_sentences[key][\"correct\"] = correct_sentence\n",
    "\n",
    "\n",
    "                eval_sentences[key][\"incorrect\"] = incorrect_sentence\n",
    "    \n",
    "    return eval_sentences"
   ]
  },
  {
   "cell_type": "code",
   "execution_count": 4,
   "metadata": {},
   "outputs": [],
   "source": [
    "with open(\"truism_data/physical_data_2.json\", \"r\") as f:\n",
    "    physical_data = json.load(f)\n",
    "\n",
    "with open(\"truism_data/physical_data_sentences_2.json\", \"r\") as f:\n",
    "    physical_sentences = json.load(f)"
   ]
  },
  {
   "cell_type": "code",
   "execution_count": 5,
   "metadata": {},
   "outputs": [],
   "source": [
    "physcial_sentences_for_generation_eval = create_needed_sentences_for_generation_eval(physical_sentences, physical_data)\n"
   ]
  },
  {
   "cell_type": "code",
   "execution_count": 6,
   "metadata": {},
   "outputs": [],
   "source": [
    "with open(\"generative_lm_test_data/physical_data_sentences.json\", \"w\") as f:\n",
    "    json.dump(physcial_sentences_for_generation_eval, f, indent=1)"
   ]
  },
  {
   "cell_type": "code",
   "execution_count": null,
   "metadata": {},
   "outputs": [],
   "source": []
  },
  {
   "cell_type": "code",
   "execution_count": 7,
   "metadata": {},
   "outputs": [],
   "source": [
    "with open(\"truism_data/material_data_2.json\", \"r\") as f:\n",
    "    material_data = json.load(f)\n",
    "\n",
    "with open(\"truism_data/material_data_sentences_2.json\", \"r\") as f:\n",
    "    material_sentences = json.load(f)"
   ]
  },
  {
   "cell_type": "code",
   "execution_count": 8,
   "metadata": {},
   "outputs": [],
   "source": [
    "material_sentences_for_generation_eval = create_needed_sentences_for_generation_eval(material_sentences, material_data)\n"
   ]
  },
  {
   "cell_type": "code",
   "execution_count": 9,
   "metadata": {},
   "outputs": [],
   "source": [
    "with open(\"generative_lm_test_data/material_data_sentences.json\", \"w\") as f:\n",
    "    json.dump(material_sentences_for_generation_eval, f, indent=1)"
   ]
  },
  {
   "cell_type": "code",
   "execution_count": null,
   "metadata": {},
   "outputs": [],
   "source": []
  },
  {
   "cell_type": "code",
   "execution_count": 10,
   "metadata": {},
   "outputs": [],
   "source": [
    "with open(\"truism_data/social_data_2.json\", \"r\") as f:\n",
    "    social_data = json.load(f)\n",
    "\n",
    "with open(\"truism_data/social_data_sentences_2.json\", \"r\") as f:\n",
    "    social_sentences = json.load(f)"
   ]
  },
  {
   "cell_type": "code",
   "execution_count": 11,
   "metadata": {},
   "outputs": [],
   "source": [
    "social_sentences_for_generation_eval = create_needed_sentences_for_generation_eval(social_sentences, social_data)\n"
   ]
  },
  {
   "cell_type": "code",
   "execution_count": 12,
   "metadata": {},
   "outputs": [],
   "source": [
    "with open(\"generative_lm_test_data/social_data_sentences.json\", \"w\") as f:\n",
    "    json.dump(social_sentences_for_generation_eval, f, indent=1)"
   ]
  },
  {
   "cell_type": "code",
   "execution_count": null,
   "metadata": {},
   "outputs": [],
   "source": []
  }
 ],
 "metadata": {
  "kernelspec": {
   "display_name": "Python 3",
   "language": "python",
   "name": "python3"
  },
  "language_info": {
   "codemirror_mode": {
    "name": "ipython",
    "version": 3
   },
   "file_extension": ".py",
   "mimetype": "text/x-python",
   "name": "python",
   "nbconvert_exporter": "python",
   "pygments_lexer": "ipython3",
   "version": "3.6.5"
  }
 },
 "nbformat": 4,
 "nbformat_minor": 4
}
